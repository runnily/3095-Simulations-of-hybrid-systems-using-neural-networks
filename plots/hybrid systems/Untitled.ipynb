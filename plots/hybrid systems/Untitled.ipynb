{
 "cells": [
  {
   "cell_type": "code",
   "execution_count": 25,
   "id": "ranking-companion",
   "metadata": {},
   "outputs": [],
   "source": [
    "import pandas as pd"
   ]
  },
  {
   "cell_type": "code",
   "execution_count": 30,
   "id": "homeless-payment",
   "metadata": {},
   "outputs": [],
   "source": [
    "bouncingBall = []\n",
    "for idx in range(5):\n",
    "    filename = \"../../data/bouncingball/bouncingball\" \n",
    "    if idx >= 1 :\n",
    "        filename = filename + str(idx) + \".csv\"\n",
    "    else:\n",
    "        filename = filename + \".csv\"\n",
    "        \n",
    "    data = pd.read_csv(filename)\n",
    "    df = pd.DataFrame(data=data)\n",
    "    bouncingBall.append(df)\n",
    "bouncingBall = pd.concat(bouncingBall)"
   ]
  },
  {
   "cell_type": "code",
   "execution_count": 31,
   "id": "extraordinary-advocacy",
   "metadata": {},
   "outputs": [
    {
     "data": {
      "text/html": [
       "<div>\n",
       "<style scoped>\n",
       "    .dataframe tbody tr th:only-of-type {\n",
       "        vertical-align: middle;\n",
       "    }\n",
       "\n",
       "    .dataframe tbody tr th {\n",
       "        vertical-align: top;\n",
       "    }\n",
       "\n",
       "    .dataframe thead th {\n",
       "        text-align: right;\n",
       "    }\n",
       "</style>\n",
       "<table border=\"1\" class=\"dataframe\">\n",
       "  <thead>\n",
       "    <tr style=\"text-align: right;\">\n",
       "      <th></th>\n",
       "      <th>initial_position</th>\n",
       "      <th>initial_velocity</th>\n",
       "      <th>time</th>\n",
       "      <th>position</th>\n",
       "      <th>velocity</th>\n",
       "    </tr>\n",
       "  </thead>\n",
       "  <tbody>\n",
       "    <tr>\n",
       "      <th>0</th>\n",
       "      <td>11</td>\n",
       "      <td>15</td>\n",
       "      <td>0.0</td>\n",
       "      <td>11.00000</td>\n",
       "      <td>16.000</td>\n",
       "    </tr>\n",
       "    <tr>\n",
       "      <th>1</th>\n",
       "      <td>11</td>\n",
       "      <td>15</td>\n",
       "      <td>0.1</td>\n",
       "      <td>12.55095</td>\n",
       "      <td>15.019</td>\n",
       "    </tr>\n",
       "    <tr>\n",
       "      <th>2</th>\n",
       "      <td>11</td>\n",
       "      <td>15</td>\n",
       "      <td>0.2</td>\n",
       "      <td>14.00380</td>\n",
       "      <td>14.038</td>\n",
       "    </tr>\n",
       "    <tr>\n",
       "      <th>3</th>\n",
       "      <td>11</td>\n",
       "      <td>15</td>\n",
       "      <td>0.3</td>\n",
       "      <td>15.35855</td>\n",
       "      <td>13.057</td>\n",
       "    </tr>\n",
       "    <tr>\n",
       "      <th>4</th>\n",
       "      <td>11</td>\n",
       "      <td>15</td>\n",
       "      <td>0.4</td>\n",
       "      <td>16.61520</td>\n",
       "      <td>12.076</td>\n",
       "    </tr>\n",
       "  </tbody>\n",
       "</table>\n",
       "</div>"
      ],
      "text/plain": [
       "   initial_position  initial_velocity  time  position  velocity\n",
       "0                11                15   0.0  11.00000    16.000\n",
       "1                11                15   0.1  12.55095    15.019\n",
       "2                11                15   0.2  14.00380    14.038\n",
       "3                11                15   0.3  15.35855    13.057\n",
       "4                11                15   0.4  16.61520    12.076"
      ]
     },
     "execution_count": 31,
     "metadata": {},
     "output_type": "execute_result"
    }
   ],
   "source": [
    "bouncingBall.head()"
   ]
  },
  {
   "cell_type": "code",
   "execution_count": 35,
   "id": "demographic-easter",
   "metadata": {},
   "outputs": [],
   "source": [
    "bouncingBall.to_csv(\"../../data/train/boundingBall.csv\", index = False)"
   ]
  },
  {
   "cell_type": "code",
   "execution_count": null,
   "id": "posted-singapore",
   "metadata": {},
   "outputs": [],
   "source": []
  }
 ],
 "metadata": {
  "kernelspec": {
   "display_name": "Python 3",
   "language": "python",
   "name": "python3"
  },
  "language_info": {
   "codemirror_mode": {
    "name": "ipython",
    "version": 3
   },
   "file_extension": ".py",
   "mimetype": "text/x-python",
   "name": "python",
   "nbconvert_exporter": "python",
   "pygments_lexer": "ipython3",
   "version": "3.8.1"
  }
 },
 "nbformat": 4,
 "nbformat_minor": 5
}
