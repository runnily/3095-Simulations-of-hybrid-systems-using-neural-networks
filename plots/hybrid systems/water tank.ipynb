{
 "cells": [
  {
   "cell_type": "code",
   "execution_count": 33,
   "id": "ranking-companion",
   "metadata": {},
   "outputs": [],
   "source": [
    "import numpy as np\n",
    "import pandas as pd\n",
    "import seaborn as sns\n",
    "import sys\n",
    "sys.path.insert(1, \"../..\")\n",
    "from itertools import product\n",
    "from prototype_nn import Splitting, predictions, tensor_flatten\n",
    "import matplotlib.pyplot as plt\n",
    "import prototype\n",
    "import torch\n",
    "%run ../utilities.ipynb"
   ]
  },
  {
   "cell_type": "markdown",
   "id": "3ae5df57",
   "metadata": {},
   "source": [
    "## Training : Simulations"
   ]
  },
  {
   "cell_type": "code",
   "execution_count": 34,
   "id": "extraordinary-advocacy",
   "metadata": {},
   "outputs": [
    {
     "data": {
      "text/html": [
       "<div>\n",
       "<style scoped>\n",
       "    .dataframe tbody tr th:only-of-type {\n",
       "        vertical-align: middle;\n",
       "    }\n",
       "\n",
       "    .dataframe tbody tr th {\n",
       "        vertical-align: top;\n",
       "    }\n",
       "\n",
       "    .dataframe thead th {\n",
       "        text-align: right;\n",
       "    }\n",
       "</style>\n",
       "<table border=\"1\" class=\"dataframe\">\n",
       "  <thead>\n",
       "    <tr style=\"text-align: right;\">\n",
       "      <th></th>\n",
       "      <th>time</th>\n",
       "      <th>initial_x1</th>\n",
       "      <th>initial_x2</th>\n",
       "      <th>initial_x3</th>\n",
       "      <th>initial_x4</th>\n",
       "      <th>initial_x5</th>\n",
       "      <th>x1</th>\n",
       "      <th>x2</th>\n",
       "      <th>x3</th>\n",
       "      <th>x4</th>\n",
       "      <th>x5</th>\n",
       "    </tr>\n",
       "  </thead>\n",
       "  <tbody>\n",
       "    <tr>\n",
       "      <th>0</th>\n",
       "      <td>0.00</td>\n",
       "      <td>3.0</td>\n",
       "      <td>4.0</td>\n",
       "      <td>0.0</td>\n",
       "      <td>0.0</td>\n",
       "      <td>0.0</td>\n",
       "      <td>0.454240</td>\n",
       "      <td>1.551933</td>\n",
       "      <td>0.454240</td>\n",
       "      <td>0.454240</td>\n",
       "      <td>0.454240</td>\n",
       "    </tr>\n",
       "    <tr>\n",
       "      <th>1</th>\n",
       "      <td>0.01</td>\n",
       "      <td>3.0</td>\n",
       "      <td>4.0</td>\n",
       "      <td>0.0</td>\n",
       "      <td>0.0</td>\n",
       "      <td>0.0</td>\n",
       "      <td>0.454325</td>\n",
       "      <td>1.552556</td>\n",
       "      <td>0.454325</td>\n",
       "      <td>0.454325</td>\n",
       "      <td>0.454325</td>\n",
       "    </tr>\n",
       "    <tr>\n",
       "      <th>2</th>\n",
       "      <td>0.02</td>\n",
       "      <td>3.0</td>\n",
       "      <td>4.0</td>\n",
       "      <td>0.0</td>\n",
       "      <td>0.0</td>\n",
       "      <td>0.0</td>\n",
       "      <td>0.454410</td>\n",
       "      <td>1.553179</td>\n",
       "      <td>0.454410</td>\n",
       "      <td>0.454410</td>\n",
       "      <td>0.454410</td>\n",
       "    </tr>\n",
       "    <tr>\n",
       "      <th>3</th>\n",
       "      <td>0.03</td>\n",
       "      <td>3.0</td>\n",
       "      <td>4.0</td>\n",
       "      <td>0.0</td>\n",
       "      <td>0.0</td>\n",
       "      <td>0.0</td>\n",
       "      <td>0.454495</td>\n",
       "      <td>1.553801</td>\n",
       "      <td>0.454495</td>\n",
       "      <td>0.454495</td>\n",
       "      <td>0.454495</td>\n",
       "    </tr>\n",
       "    <tr>\n",
       "      <th>4</th>\n",
       "      <td>0.04</td>\n",
       "      <td>3.0</td>\n",
       "      <td>4.0</td>\n",
       "      <td>0.0</td>\n",
       "      <td>0.0</td>\n",
       "      <td>0.0</td>\n",
       "      <td>0.454576</td>\n",
       "      <td>1.554416</td>\n",
       "      <td>0.454576</td>\n",
       "      <td>0.454576</td>\n",
       "      <td>0.454576</td>\n",
       "    </tr>\n",
       "  </tbody>\n",
       "</table>\n",
       "</div>"
      ],
      "text/plain": [
       "   time  initial_x1  initial_x2  initial_x3  initial_x4  initial_x5        x1  \\\n",
       "0  0.00         3.0         4.0         0.0         0.0         0.0  0.454240   \n",
       "1  0.01         3.0         4.0         0.0         0.0         0.0  0.454325   \n",
       "2  0.02         3.0         4.0         0.0         0.0         0.0  0.454410   \n",
       "3  0.03         3.0         4.0         0.0         0.0         0.0  0.454495   \n",
       "4  0.04         3.0         4.0         0.0         0.0         0.0  0.454576   \n",
       "\n",
       "         x2        x3        x4        x5  \n",
       "0  1.551933  0.454240  0.454240  0.454240  \n",
       "1  1.552556  0.454325  0.454325  0.454325  \n",
       "2  1.553179  0.454410  0.454410  0.454410  \n",
       "3  1.553801  0.454495  0.454495  0.454495  \n",
       "4  1.554416  0.454576  0.454576  0.454576  "
      ]
     },
     "execution_count": 34,
     "metadata": {},
     "output_type": "execute_result"
    }
   ],
   "source": [
    "training = pd.DataFrame(data = pd.read_csv(\"../../data/preds/train/water_tank.csv\"))\n",
    "training.head()"
   ]
  },
  {
   "cell_type": "code",
   "execution_count": 35,
   "id": "demographic-easter",
   "metadata": {},
   "outputs": [
    {
     "data": {
      "text/plain": [
       "1001"
      ]
     },
     "execution_count": 35,
     "metadata": {},
     "output_type": "execute_result"
    }
   ],
   "source": [
    "len(training)"
   ]
  },
  {
   "cell_type": "code",
   "execution_count": 36,
   "id": "posted-singapore",
   "metadata": {},
   "outputs": [
    {
     "data": {
      "text/html": [
       "<div>\n",
       "<style scoped>\n",
       "    .dataframe tbody tr th:only-of-type {\n",
       "        vertical-align: middle;\n",
       "    }\n",
       "\n",
       "    .dataframe tbody tr th {\n",
       "        vertical-align: top;\n",
       "    }\n",
       "\n",
       "    .dataframe thead th {\n",
       "        text-align: right;\n",
       "    }\n",
       "</style>\n",
       "<table border=\"1\" class=\"dataframe\">\n",
       "  <thead>\n",
       "    <tr style=\"text-align: right;\">\n",
       "      <th></th>\n",
       "      <th>time</th>\n",
       "      <th>initial_x1</th>\n",
       "      <th>initial_x2</th>\n",
       "      <th>initial_x3</th>\n",
       "      <th>initial_x4</th>\n",
       "      <th>initial_x5</th>\n",
       "      <th>x1</th>\n",
       "      <th>x2</th>\n",
       "      <th>x3</th>\n",
       "      <th>x4</th>\n",
       "      <th>x5</th>\n",
       "      <th>initial_parameters</th>\n",
       "    </tr>\n",
       "  </thead>\n",
       "  <tbody>\n",
       "    <tr>\n",
       "      <th>0</th>\n",
       "      <td>0.00</td>\n",
       "      <td>3.0</td>\n",
       "      <td>4.0</td>\n",
       "      <td>0.0</td>\n",
       "      <td>0.0</td>\n",
       "      <td>0.0</td>\n",
       "      <td>0.454240</td>\n",
       "      <td>1.551933</td>\n",
       "      <td>0.454240</td>\n",
       "      <td>0.454240</td>\n",
       "      <td>0.454240</td>\n",
       "      <td>(3.0, 4.0, 0.0, 0.0, 0.0)</td>\n",
       "    </tr>\n",
       "    <tr>\n",
       "      <th>1</th>\n",
       "      <td>0.01</td>\n",
       "      <td>3.0</td>\n",
       "      <td>4.0</td>\n",
       "      <td>0.0</td>\n",
       "      <td>0.0</td>\n",
       "      <td>0.0</td>\n",
       "      <td>0.454325</td>\n",
       "      <td>1.552556</td>\n",
       "      <td>0.454325</td>\n",
       "      <td>0.454325</td>\n",
       "      <td>0.454325</td>\n",
       "      <td>(3.0, 4.0, 0.0, 0.0, 0.0)</td>\n",
       "    </tr>\n",
       "    <tr>\n",
       "      <th>2</th>\n",
       "      <td>0.02</td>\n",
       "      <td>3.0</td>\n",
       "      <td>4.0</td>\n",
       "      <td>0.0</td>\n",
       "      <td>0.0</td>\n",
       "      <td>0.0</td>\n",
       "      <td>0.454410</td>\n",
       "      <td>1.553179</td>\n",
       "      <td>0.454410</td>\n",
       "      <td>0.454410</td>\n",
       "      <td>0.454410</td>\n",
       "      <td>(3.0, 4.0, 0.0, 0.0, 0.0)</td>\n",
       "    </tr>\n",
       "    <tr>\n",
       "      <th>3</th>\n",
       "      <td>0.03</td>\n",
       "      <td>3.0</td>\n",
       "      <td>4.0</td>\n",
       "      <td>0.0</td>\n",
       "      <td>0.0</td>\n",
       "      <td>0.0</td>\n",
       "      <td>0.454495</td>\n",
       "      <td>1.553801</td>\n",
       "      <td>0.454495</td>\n",
       "      <td>0.454495</td>\n",
       "      <td>0.454495</td>\n",
       "      <td>(3.0, 4.0, 0.0, 0.0, 0.0)</td>\n",
       "    </tr>\n",
       "    <tr>\n",
       "      <th>4</th>\n",
       "      <td>0.04</td>\n",
       "      <td>3.0</td>\n",
       "      <td>4.0</td>\n",
       "      <td>0.0</td>\n",
       "      <td>0.0</td>\n",
       "      <td>0.0</td>\n",
       "      <td>0.454576</td>\n",
       "      <td>1.554416</td>\n",
       "      <td>0.454576</td>\n",
       "      <td>0.454576</td>\n",
       "      <td>0.454576</td>\n",
       "      <td>(3.0, 4.0, 0.0, 0.0, 0.0)</td>\n",
       "    </tr>\n",
       "  </tbody>\n",
       "</table>\n",
       "</div>"
      ],
      "text/plain": [
       "   time  initial_x1  initial_x2  initial_x3  initial_x4  initial_x5        x1  \\\n",
       "0  0.00         3.0         4.0         0.0         0.0         0.0  0.454240   \n",
       "1  0.01         3.0         4.0         0.0         0.0         0.0  0.454325   \n",
       "2  0.02         3.0         4.0         0.0         0.0         0.0  0.454410   \n",
       "3  0.03         3.0         4.0         0.0         0.0         0.0  0.454495   \n",
       "4  0.04         3.0         4.0         0.0         0.0         0.0  0.454576   \n",
       "\n",
       "         x2        x3        x4        x5         initial_parameters  \n",
       "0  1.551933  0.454240  0.454240  0.454240  (3.0, 4.0, 0.0, 0.0, 0.0)  \n",
       "1  1.552556  0.454325  0.454325  0.454325  (3.0, 4.0, 0.0, 0.0, 0.0)  \n",
       "2  1.553179  0.454410  0.454410  0.454410  (3.0, 4.0, 0.0, 0.0, 0.0)  \n",
       "3  1.553801  0.454495  0.454495  0.454495  (3.0, 4.0, 0.0, 0.0, 0.0)  \n",
       "4  1.554416  0.454576  0.454576  0.454576  (3.0, 4.0, 0.0, 0.0, 0.0)  "
      ]
     },
     "execution_count": 36,
     "metadata": {},
     "output_type": "execute_result"
    }
   ],
   "source": [
    "training[\"initial_parameters\"] = list(zip(training.initial_x1, training.initial_x2,\n",
    "                                         training.initial_x3, training.initial_x4,\n",
    "                                         training.initial_x5,))\n",
    "training.head()"
   ]
  },
  {
   "cell_type": "code",
   "execution_count": 37,
   "id": "1fd16683",
   "metadata": {},
   "outputs": [],
   "source": [
    "initial = training[training[\"initial_parameters\"] == (3,4,0,0,0)]"
   ]
  },
  {
   "cell_type": "code",
   "execution_count": 38,
   "id": "6f0a4b98",
   "metadata": {},
   "outputs": [
    {
     "data": {
      "text/plain": [
       "[<matplotlib.lines.Line2D at 0x7f96b94305b0>]"
      ]
     },
     "execution_count": 38,
     "metadata": {},
     "output_type": "execute_result"
    },
    {
     "data": {
      "image/png": "[encoded data removed]",
      "text/plain": [
       "<Figure size 720x1152 with 3 Axes>"
      ]
     },
     "metadata": {
      "needs_background": "light"
     },
     "output_type": "display_data"
    }
   ],
   "source": [
    "fig, ax = plt.subplots(nrows = 3, figsize=(10,16))\n",
    "ax[0].plot(initial[[\"time\"]], initial[[\"x1\"]])\n",
    "ax[1].plot(initial[[\"x2\"]], initial[[\"x1\"]])\n",
    "ax[2].plot(initial[[\"time\"]], initial[[\"x2\"]])"
   ]
  },
  {
   "cell_type": "code",
   "execution_count": null,
   "id": "55779d70",
   "metadata": {},
   "outputs": [],
   "source": []
  }
 ],
 "metadata": {
  "kernelspec": {
   "display_name": "Python 3",
   "language": "python",
   "name": "python3"
  },
  "language_info": {
   "codemirror_mode": {
    "name": "ipython",
    "version": 3
   },
   "file_extension": ".py",
   "mimetype": "text/x-python",
   "name": "python",
   "nbconvert_exporter": "python",
   "pygments_lexer": "ipython3",
   "version": "3.8.1"
  }
 },
 "nbformat": 4,
 "nbformat_minor": 5
}
