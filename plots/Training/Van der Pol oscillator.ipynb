version https://git-lfs.github.com/spec/v1
oid sha256:28fa9cf459dc75d1951d3a2a5f1e85c27a46e2f4e03287495cf2bdf5c5d3d5b1
size 2027800
