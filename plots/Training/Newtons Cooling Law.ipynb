version https://git-lfs.github.com/spec/v1
oid sha256:38120142912fd0b11c955ecc0f6579b2c4a27e3175c4f0dbb6db625973714a7e
size 1361816
