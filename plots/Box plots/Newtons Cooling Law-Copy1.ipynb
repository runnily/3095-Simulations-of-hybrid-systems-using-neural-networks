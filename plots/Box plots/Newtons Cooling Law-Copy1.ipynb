version https://git-lfs.github.com/spec/v1
oid sha256:35c88a4685d8c8aaed42f2552785567fd46d6a0c5eab928986ff112e29046911
size 2470455
