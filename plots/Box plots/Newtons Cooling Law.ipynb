version https://git-lfs.github.com/spec/v1
oid sha256:58bd620a05c002b3316f1a1c5366134236255cbb2c20bb02e84ffecb6216802f
size 3343692
