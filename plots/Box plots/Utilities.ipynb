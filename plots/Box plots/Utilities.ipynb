{
 "cells": [
  {
   "cell_type": "markdown",
   "id": "accompanied-essex",
   "metadata": {},
   "source": [
    "# Utilities"
   ]
  },
  {
   "cell_type": "markdown",
   "id": "comprehensive-service",
   "metadata": {},
   "source": [
    "This would be used for getting the data of box plots"
   ]
  },
  {
   "cell_type": "code",
   "execution_count": 3,
   "id": "introductory-henry",
   "metadata": {},
   "outputs": [],
   "source": [
    "import numpy as np\n",
    "import pandas as pd\n",
    "import seaborn as sns\n",
    "import sys\n",
    "sys.path.insert(1, '../../')\n",
    "import prototype_nn as NN\n",
    "from prototype import inputs_to_tensor\n",
    "from torch.utils.data import TensorDataset, DataLoader # For mini batches\n",
    "from abc import ABC, abstractmethod"
   ]
  },
  {
   "cell_type": "code",
   "execution_count": 12,
   "id": "posted-dynamics",
   "metadata": {},
   "outputs": [],
   "source": [
    "class lossUtilities():\n",
    "    \"\"\"\n",
    "        lossUtilities:\n",
    "            Acts as a helper class for all the other modules. This would be used for gather data for plotting box plots\n",
    "            \n",
    "    \"\"\"\n",
    "    @abstractmethod\n",
    "    def default_model(self):\n",
    "        pass\n",
    "    \n",
    "    def inputs_to_tensor(self, filename, columns):\n",
    "        return inputs_to_tensor(filename, columns)\n",
    "    \n",
    "    def loss(self, len_parameters, **list_of_parameters):\n",
    "        \"\"\"\n",
    "            loss: This returns an array and dataframe of the loss specfied by a parameter you want.\n",
    "            \n",
    "            Args:\n",
    "                list_of_paramters <dict> : Is a dictionary with a list of paramters\n",
    "                len_parameter: This is the length of the parameters\n",
    "            Returns:\n",
    "                <array> : An array of the loss\n",
    "                <DataFrame> : The dataframe of arrays\n",
    "        \"\"\"\n",
    "        # checks if the len of each array in len_parameters is the same\n",
    "        for key, values in list_of_parameters.items():\n",
    "            if len(list(values)) != len_parameters:\n",
    "                raise ValueError(\"length of {} should be the same as {}\".format(key, len_parameters))\n",
    "                \n",
    "        # get the defaults values\n",
    "        \n",
    "        default_lr, default_batch_size, default_time_step, default_num_epoches, number_inputs, number_classes, inputs, targets = self.default_model()\n",
    "        \n",
    "        # sets the list of parameters to None or a list of values to go through\n",
    "        lr = list_of_parameters.get(\"lr\", None)\n",
    "        batch_size = list_of_parameters.get(\"batch_size\", None)\n",
    "        time_step = list_of_parameters.get(\"time_step\", None)\n",
    "        num_epoches = list_of_parameters.get(\"num_epoches\", None)\n",
    "\n",
    "        loss_dict = {} # This hold a dictionary containing the parameters and their corresponding loss\n",
    "        for i in range(len_parameters):\n",
    "            loss = [] # This will hold a list of 30 losses\n",
    "            \n",
    "            # These are setting the parameters to either default parameter or a \n",
    "            # specific parameter defined within a list\n",
    "            learning_rate = default_lr if lr == None else lr[i]\n",
    "            batch_size_1 = default_batch_size if batch_size == None else batch_size[i]\n",
    "            time_step_1 = default_time_step if time_step == None else time_step[i]\n",
    "            num_epoches_1 = default_num_epoches if num_epoches == None else num_epoches[i]\n",
    "            \n",
    "            # Repeats 30 times\n",
    "            for _ in range(30):\n",
    "                model = NN.prototype(number_inputs, number_classes, learning_rate)\n",
    "                train_dataset = TensorDataset(inputs, targets)\n",
    "                train_loader = DataLoader(dataset=train_dataset, batch_size=batch_size_1, shuffle=True) \n",
    "                \n",
    "                # append \n",
    "                loss.append(model.train_model(train_loader, num_epoches_1))\n",
    "                \n",
    "            loss_dict[\"lr = {}, bs = {}, ts = {}, epoch = {}\".format(learning_rate,\n",
    "            batch_size_1,time_step_1,num_epoches_1)] = loss\n",
    "        return loss_dict, pd.DataFrame(data=loss_dict)"
   ]
  }
 ],
 "metadata": {
  "kernelspec": {
   "display_name": "Python 3",
   "language": "python",
   "name": "python3"
  },
  "language_info": {
   "codemirror_mode": {
    "name": "ipython",
    "version": 3
   },
   "file_extension": ".py",
   "mimetype": "text/x-python",
   "name": "python",
   "nbconvert_exporter": "python",
   "pygments_lexer": "ipython3",
   "version": "3.8.1"
  }
 },
 "nbformat": 4,
 "nbformat_minor": 5
}
