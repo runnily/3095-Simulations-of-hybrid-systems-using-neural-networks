{
 "cells": [
  {
   "cell_type": "code",
   "execution_count": 1,
   "id": "specialized-direction",
   "metadata": {},
   "outputs": [],
   "source": [
    "import numpy as np\n",
    "import pandas as pd\n",
    "import seaborn as sns\n",
    "import matplotlib.pyplot as plt\n",
    "from ipynb.fs.full.utilities import boxplots, averages"
   ]
  },
  {
   "cell_type": "markdown",
   "id": "opponent-prison",
   "metadata": {},
   "source": [
    "# Content"
   ]
  },
  {
   "cell_type": "markdown",
   "id": "missing-chrome",
   "metadata": {},
   "source": [
    "This is looking at the affect of learning parameters on neural network model which is traning the laub loomis."
   ]
  },
  {
   "cell_type": "markdown",
   "id": "adaptive-sending",
   "metadata": {},
   "source": [
    "The default parameters can be shown below:\n",
    "<ol>\n",
    "    <li> learning rate = 0.0001 </li>\n",
    "    <li> batch size = 500 </li>\n",
    "    <li> time step = 0.01 </li>\n",
    "    <li> num epoches = 10 </li>\n",
    "</ol>"
   ]
  },
  {
   "cell_type": "markdown",
   "id": "front-criticism",
   "metadata": {},
   "source": [
    "## Learning rate"
   ]
  },
  {
   "cell_type": "markdown",
   "id": "nasty-fairy",
   "metadata": {},
   "source": [
    "dataframe"
   ]
  },
  {
   "cell_type": "code",
   "execution_count": 2,
   "id": "present-arcade",
   "metadata": {},
   "outputs": [
    {
     "data": {
      "text/html": [
       "<div>\n",
       "<style scoped>\n",
       "    .dataframe tbody tr th:only-of-type {\n",
       "        vertical-align: middle;\n",
       "    }\n",
       "\n",
       "    .dataframe tbody tr th {\n",
       "        vertical-align: top;\n",
       "    }\n",
       "\n",
       "    .dataframe thead th {\n",
       "        text-align: right;\n",
       "    }\n",
       "</style>\n",
       "<table border=\"1\" class=\"dataframe\">\n",
       "  <thead>\n",
       "    <tr style=\"text-align: right;\">\n",
       "      <th></th>\n",
       "      <th>lr = 0.0001, bs = 500, ts = 0.01, epoch = 10</th>\n",
       "      <th>lr = 5e-05, bs = 500, ts = 0.01, epoch = 10</th>\n",
       "      <th>lr = 5e-06, bs = 500, ts = 500, epoch = 10</th>\n",
       "      <th>lr = 5e-07, bs = 500, ts = 0.01, epoch = 10</th>\n",
       "      <th>lr = 5e-08, bs = 500, ts = 0.01, epoch = 10</th>\n",
       "      <th>lr = 5e-09, bs = 500, ts = 0.01, epoch = 10</th>\n",
       "    </tr>\n",
       "  </thead>\n",
       "  <tbody>\n",
       "    <tr>\n",
       "      <th>0</th>\n",
       "      <td>0.000359</td>\n",
       "      <td>0.000880</td>\n",
       "      <td>0.003778</td>\n",
       "      <td>0.180943</td>\n",
       "      <td>0.384832</td>\n",
       "      <td>4.382025</td>\n",
       "    </tr>\n",
       "    <tr>\n",
       "      <th>1</th>\n",
       "      <td>0.000698</td>\n",
       "      <td>0.000434</td>\n",
       "      <td>0.005044</td>\n",
       "      <td>0.207100</td>\n",
       "      <td>0.323213</td>\n",
       "      <td>6.944807</td>\n",
       "    </tr>\n",
       "    <tr>\n",
       "      <th>2</th>\n",
       "      <td>0.000286</td>\n",
       "      <td>0.000523</td>\n",
       "      <td>0.002094</td>\n",
       "      <td>0.242472</td>\n",
       "      <td>0.381466</td>\n",
       "      <td>4.459488</td>\n",
       "    </tr>\n",
       "    <tr>\n",
       "      <th>3</th>\n",
       "      <td>0.000243</td>\n",
       "      <td>0.000433</td>\n",
       "      <td>0.003599</td>\n",
       "      <td>0.223739</td>\n",
       "      <td>0.465112</td>\n",
       "      <td>1.874359</td>\n",
       "    </tr>\n",
       "    <tr>\n",
       "      <th>4</th>\n",
       "      <td>0.000818</td>\n",
       "      <td>0.000356</td>\n",
       "      <td>0.006609</td>\n",
       "      <td>0.198731</td>\n",
       "      <td>0.557159</td>\n",
       "      <td>2.145780</td>\n",
       "    </tr>\n",
       "  </tbody>\n",
       "</table>\n",
       "</div>"
      ],
      "text/plain": [
       "   lr = 0.0001, bs = 500, ts = 0.01, epoch = 10  \\\n",
       "0                                      0.000359   \n",
       "1                                      0.000698   \n",
       "2                                      0.000286   \n",
       "3                                      0.000243   \n",
       "4                                      0.000818   \n",
       "\n",
       "   lr = 5e-05, bs = 500, ts = 0.01, epoch = 10  \\\n",
       "0                                     0.000880   \n",
       "1                                     0.000434   \n",
       "2                                     0.000523   \n",
       "3                                     0.000433   \n",
       "4                                     0.000356   \n",
       "\n",
       "   lr = 5e-06, bs = 500, ts = 500, epoch = 10  \\\n",
       "0                                    0.003778   \n",
       "1                                    0.005044   \n",
       "2                                    0.002094   \n",
       "3                                    0.003599   \n",
       "4                                    0.006609   \n",
       "\n",
       "   lr = 5e-07, bs = 500, ts = 0.01, epoch = 10  \\\n",
       "0                                     0.180943   \n",
       "1                                     0.207100   \n",
       "2                                     0.242472   \n",
       "3                                     0.223739   \n",
       "4                                     0.198731   \n",
       "\n",
       "   lr = 5e-08, bs = 500, ts = 0.01, epoch = 10  \\\n",
       "0                                     0.384832   \n",
       "1                                     0.323213   \n",
       "2                                     0.381466   \n",
       "3                                     0.465112   \n",
       "4                                     0.557159   \n",
       "\n",
       "   lr = 5e-09, bs = 500, ts = 0.01, epoch = 10  \n",
       "0                                     4.382025  \n",
       "1                                     6.944807  \n",
       "2                                     4.459488  \n",
       "3                                     1.874359  \n",
       "4                                     2.145780  "
      ]
     },
     "execution_count": 2,
     "metadata": {},
     "output_type": "execute_result"
    }
   ],
   "source": [
    "data = pd.read_csv(\"../../data/boxplots/laub/lr.csv\")\n",
    "lr_df = pd.DataFrame(data=data)\n",
    "lr_df\n",
    "lr_df.head()"
   ]
  },
  {
   "cell_type": "code",
   "execution_count": 32,
   "id": "responsible-layout",
   "metadata": {},
   "outputs": [
    {
     "data": {
      "text/plain": [
       "(5e-05, 0.3)"
      ]
     },
     "execution_count": 32,
     "metadata": {},
     "output_type": "execute_result"
    },
    {
     "data": {
      "image/png": "[encoded data removed]",
      "text/plain": [
       "<Figure size 432x288 with 1 Axes>"
      ]
     },
     "metadata": {
      "needs_background": "light"
     },
     "output_type": "display_data"
    }
   ],
   "source": [
    "ax = plt.axes()\n",
    "sns.boxplot(data = lr_df, ax = ax, orient = \"h\" )\n",
    "ax.set_xlim(0.00005, 0.3)"
   ]
  },
  {
   "cell_type": "code",
   "execution_count": 4,
   "id": "funded-conditions",
   "metadata": {},
   "outputs": [
    {
     "data": {
      "image/png": "[encoded data removed]",
      "text/plain": [
       "<Figure size 252x720 with 6 Axes>"
      ]
     },
     "metadata": {
      "needs_background": "light"
     },
     "output_type": "display_data"
    }
   ],
   "source": [
    "boxplots(3, lr_df)"
   ]
  },
  {
   "cell_type": "markdown",
   "id": "coastal-queue",
   "metadata": {},
   "source": [
    "averages"
   ]
  },
  {
   "cell_type": "code",
   "execution_count": 5,
   "id": "sensitive-ceremony",
   "metadata": {},
   "outputs": [
    {
     "data": {
      "text/html": [
       "<div>\n",
       "<style scoped>\n",
       "    .dataframe tbody tr th:only-of-type {\n",
       "        vertical-align: middle;\n",
       "    }\n",
       "\n",
       "    .dataframe tbody tr th {\n",
       "        vertical-align: top;\n",
       "    }\n",
       "\n",
       "    .dataframe thead th {\n",
       "        text-align: right;\n",
       "    }\n",
       "</style>\n",
       "<table border=\"1\" class=\"dataframe\">\n",
       "  <thead>\n",
       "    <tr style=\"text-align: right;\">\n",
       "      <th></th>\n",
       "      <th>lr = 0.0001, bs = 500, ts = 0.01, epoch = 10</th>\n",
       "      <th>lr = 5e-05, bs = 500, ts = 0.01, epoch = 10</th>\n",
       "      <th>lr = 5e-06, bs = 500, ts = 500, epoch = 10</th>\n",
       "      <th>lr = 5e-07, bs = 500, ts = 0.01, epoch = 10</th>\n",
       "      <th>lr = 5e-08, bs = 500, ts = 0.01, epoch = 10</th>\n",
       "      <th>lr = 5e-09, bs = 500, ts = 0.01, epoch = 10</th>\n",
       "    </tr>\n",
       "  </thead>\n",
       "  <tbody>\n",
       "    <tr>\n",
       "      <th>Q1</th>\n",
       "      <td>0.000281</td>\n",
       "      <td>0.000397</td>\n",
       "      <td>0.003419</td>\n",
       "      <td>0.200893</td>\n",
       "      <td>0.344023</td>\n",
       "      <td>2.261743</td>\n",
       "    </tr>\n",
       "    <tr>\n",
       "      <th>Q2</th>\n",
       "      <td>0.000348</td>\n",
       "      <td>0.000485</td>\n",
       "      <td>0.004520</td>\n",
       "      <td>0.222949</td>\n",
       "      <td>0.422810</td>\n",
       "      <td>3.744069</td>\n",
       "    </tr>\n",
       "    <tr>\n",
       "      <th>Q3</th>\n",
       "      <td>0.000789</td>\n",
       "      <td>0.000654</td>\n",
       "      <td>0.006003</td>\n",
       "      <td>0.238083</td>\n",
       "      <td>0.726582</td>\n",
       "      <td>5.589386</td>\n",
       "    </tr>\n",
       "    <tr>\n",
       "      <th>Mean</th>\n",
       "      <td>0.000739</td>\n",
       "      <td>0.000618</td>\n",
       "      <td>0.004613</td>\n",
       "      <td>0.219355</td>\n",
       "      <td>0.703895</td>\n",
       "      <td>4.189723</td>\n",
       "    </tr>\n",
       "    <tr>\n",
       "      <th>Standard deviation</th>\n",
       "      <td>0.000920</td>\n",
       "      <td>0.000515</td>\n",
       "      <td>0.001752</td>\n",
       "      <td>0.028342</td>\n",
       "      <td>0.598935</td>\n",
       "      <td>2.342992</td>\n",
       "    </tr>\n",
       "  </tbody>\n",
       "</table>\n",
       "</div>"
      ],
      "text/plain": [
       "                    lr = 0.0001, bs = 500, ts = 0.01, epoch = 10  \\\n",
       "Q1                                                      0.000281   \n",
       "Q2                                                      0.000348   \n",
       "Q3                                                      0.000789   \n",
       "Mean                                                    0.000739   \n",
       "Standard deviation                                      0.000920   \n",
       "\n",
       "                    lr = 5e-05, bs = 500, ts = 0.01, epoch = 10  \\\n",
       "Q1                                                     0.000397   \n",
       "Q2                                                     0.000485   \n",
       "Q3                                                     0.000654   \n",
       "Mean                                                   0.000618   \n",
       "Standard deviation                                     0.000515   \n",
       "\n",
       "                    lr = 5e-06, bs = 500, ts = 500, epoch = 10  \\\n",
       "Q1                                                    0.003419   \n",
       "Q2                                                    0.004520   \n",
       "Q3                                                    0.006003   \n",
       "Mean                                                  0.004613   \n",
       "Standard deviation                                    0.001752   \n",
       "\n",
       "                    lr = 5e-07, bs = 500, ts = 0.01, epoch = 10  \\\n",
       "Q1                                                     0.200893   \n",
       "Q2                                                     0.222949   \n",
       "Q3                                                     0.238083   \n",
       "Mean                                                   0.219355   \n",
       "Standard deviation                                     0.028342   \n",
       "\n",
       "                    lr = 5e-08, bs = 500, ts = 0.01, epoch = 10  \\\n",
       "Q1                                                     0.344023   \n",
       "Q2                                                     0.422810   \n",
       "Q3                                                     0.726582   \n",
       "Mean                                                   0.703895   \n",
       "Standard deviation                                     0.598935   \n",
       "\n",
       "                    lr = 5e-09, bs = 500, ts = 0.01, epoch = 10  \n",
       "Q1                                                     2.261743  \n",
       "Q2                                                     3.744069  \n",
       "Q3                                                     5.589386  \n",
       "Mean                                                   4.189723  \n",
       "Standard deviation                                     2.342992  "
      ]
     },
     "execution_count": 5,
     "metadata": {},
     "output_type": "execute_result"
    }
   ],
   "source": [
    "avg_lr = averages(lr_df)\n",
    "avg_lr"
   ]
  },
  {
   "cell_type": "markdown",
   "id": "inner-element",
   "metadata": {},
   "source": [
    "## Batch Size"
   ]
  },
  {
   "cell_type": "markdown",
   "id": "vietnamese-scene",
   "metadata": {},
   "source": [
    "dataframes"
   ]
  },
  {
   "cell_type": "code",
   "execution_count": 6,
   "id": "controversial-bloom",
   "metadata": {},
   "outputs": [
    {
     "data": {
      "text/html": [
       "<div>\n",
       "<style scoped>\n",
       "    .dataframe tbody tr th:only-of-type {\n",
       "        vertical-align: middle;\n",
       "    }\n",
       "\n",
       "    .dataframe tbody tr th {\n",
       "        vertical-align: top;\n",
       "    }\n",
       "\n",
       "    .dataframe thead th {\n",
       "        text-align: right;\n",
       "    }\n",
       "</style>\n",
       "<table border=\"1\" class=\"dataframe\">\n",
       "  <thead>\n",
       "    <tr style=\"text-align: right;\">\n",
       "      <th></th>\n",
       "      <th>lr = 0.0001, bs = 500, ts = 0.01, epoch = 10</th>\n",
       "      <th>lr = 0.0001, bs = 550, ts = 0.01, epoch = 10</th>\n",
       "      <th>lr = 0.0001, bs = 600, ts = 500, epoch = 10</th>\n",
       "      <th>lr = 0.0001, bs = 650, ts = 0.01, epoch = 10</th>\n",
       "      <th>lr = 0.0001, bs = 700, ts = 0.01, epoch = 10</th>\n",
       "      <th>lr = 0.0001, bs = 750, ts = 0.01, epoch = 10</th>\n",
       "    </tr>\n",
       "  </thead>\n",
       "  <tbody>\n",
       "    <tr>\n",
       "      <th>0</th>\n",
       "      <td>0.000217</td>\n",
       "      <td>0.000513</td>\n",
       "      <td>0.000499</td>\n",
       "      <td>0.000503</td>\n",
       "      <td>0.000370</td>\n",
       "      <td>0.000574</td>\n",
       "    </tr>\n",
       "    <tr>\n",
       "      <th>1</th>\n",
       "      <td>0.000220</td>\n",
       "      <td>0.000282</td>\n",
       "      <td>0.000899</td>\n",
       "      <td>0.000377</td>\n",
       "      <td>0.004447</td>\n",
       "      <td>0.000233</td>\n",
       "    </tr>\n",
       "    <tr>\n",
       "      <th>2</th>\n",
       "      <td>0.001375</td>\n",
       "      <td>0.000353</td>\n",
       "      <td>0.000623</td>\n",
       "      <td>0.000609</td>\n",
       "      <td>0.000578</td>\n",
       "      <td>0.001195</td>\n",
       "    </tr>\n",
       "    <tr>\n",
       "      <th>3</th>\n",
       "      <td>0.001014</td>\n",
       "      <td>0.000313</td>\n",
       "      <td>0.000948</td>\n",
       "      <td>0.000296</td>\n",
       "      <td>0.000599</td>\n",
       "      <td>0.000612</td>\n",
       "    </tr>\n",
       "    <tr>\n",
       "      <th>4</th>\n",
       "      <td>0.000345</td>\n",
       "      <td>0.000260</td>\n",
       "      <td>0.000615</td>\n",
       "      <td>0.000316</td>\n",
       "      <td>0.000852</td>\n",
       "      <td>0.000624</td>\n",
       "    </tr>\n",
       "  </tbody>\n",
       "</table>\n",
       "</div>"
      ],
      "text/plain": [
       "   lr = 0.0001, bs = 500, ts = 0.01, epoch = 10  \\\n",
       "0                                      0.000217   \n",
       "1                                      0.000220   \n",
       "2                                      0.001375   \n",
       "3                                      0.001014   \n",
       "4                                      0.000345   \n",
       "\n",
       "   lr = 0.0001, bs = 550, ts = 0.01, epoch = 10  \\\n",
       "0                                      0.000513   \n",
       "1                                      0.000282   \n",
       "2                                      0.000353   \n",
       "3                                      0.000313   \n",
       "4                                      0.000260   \n",
       "\n",
       "   lr = 0.0001, bs = 600, ts = 500, epoch = 10  \\\n",
       "0                                     0.000499   \n",
       "1                                     0.000899   \n",
       "2                                     0.000623   \n",
       "3                                     0.000948   \n",
       "4                                     0.000615   \n",
       "\n",
       "   lr = 0.0001, bs = 650, ts = 0.01, epoch = 10  \\\n",
       "0                                      0.000503   \n",
       "1                                      0.000377   \n",
       "2                                      0.000609   \n",
       "3                                      0.000296   \n",
       "4                                      0.000316   \n",
       "\n",
       "   lr = 0.0001, bs = 700, ts = 0.01, epoch = 10  \\\n",
       "0                                      0.000370   \n",
       "1                                      0.004447   \n",
       "2                                      0.000578   \n",
       "3                                      0.000599   \n",
       "4                                      0.000852   \n",
       "\n",
       "   lr = 0.0001, bs = 750, ts = 0.01, epoch = 10  \n",
       "0                                      0.000574  \n",
       "1                                      0.000233  \n",
       "2                                      0.001195  \n",
       "3                                      0.000612  \n",
       "4                                      0.000624  "
      ]
     },
     "execution_count": 6,
     "metadata": {},
     "output_type": "execute_result"
    }
   ],
   "source": [
    "data = pd.read_csv(\"../../data/boxplots/laub/batch_size.csv\")\n",
    "bs_df = pd.DataFrame(data=data)\n",
    "bs_df\n",
    "bs_df.head()"
   ]
  },
  {
   "cell_type": "markdown",
   "id": "equivalent-sterling",
   "metadata": {},
   "source": [
    "boxplots"
   ]
  },
  {
   "cell_type": "code",
   "execution_count": 7,
   "id": "simple-rendering",
   "metadata": {},
   "outputs": [
    {
     "data": {
      "image/png": "[encoded data removed]",
      "text/plain": [
       "<Figure size 252x720 with 6 Axes>"
      ]
     },
     "metadata": {
      "needs_background": "light"
     },
     "output_type": "display_data"
    }
   ],
   "source": [
    "boxplots(3, bs_df)"
   ]
  },
  {
   "cell_type": "markdown",
   "id": "promising-yacht",
   "metadata": {},
   "source": [
    "averages"
   ]
  },
  {
   "cell_type": "code",
   "execution_count": 8,
   "id": "happy-nutrition",
   "metadata": {},
   "outputs": [
    {
     "data": {
      "text/html": [
       "<div>\n",
       "<style scoped>\n",
       "    .dataframe tbody tr th:only-of-type {\n",
       "        vertical-align: middle;\n",
       "    }\n",
       "\n",
       "    .dataframe tbody tr th {\n",
       "        vertical-align: top;\n",
       "    }\n",
       "\n",
       "    .dataframe thead th {\n",
       "        text-align: right;\n",
       "    }\n",
       "</style>\n",
       "<table border=\"1\" class=\"dataframe\">\n",
       "  <thead>\n",
       "    <tr style=\"text-align: right;\">\n",
       "      <th></th>\n",
       "      <th>lr = 0.0001, bs = 500, ts = 0.01, epoch = 10</th>\n",
       "      <th>lr = 0.0001, bs = 550, ts = 0.01, epoch = 10</th>\n",
       "      <th>lr = 0.0001, bs = 600, ts = 500, epoch = 10</th>\n",
       "      <th>lr = 0.0001, bs = 650, ts = 0.01, epoch = 10</th>\n",
       "      <th>lr = 0.0001, bs = 700, ts = 0.01, epoch = 10</th>\n",
       "      <th>lr = 0.0001, bs = 750, ts = 0.01, epoch = 10</th>\n",
       "    </tr>\n",
       "  </thead>\n",
       "  <tbody>\n",
       "    <tr>\n",
       "      <th>Q1</th>\n",
       "      <td>0.000181</td>\n",
       "      <td>0.000210</td>\n",
       "      <td>0.000306</td>\n",
       "      <td>0.000300</td>\n",
       "      <td>0.000238</td>\n",
       "      <td>0.000290</td>\n",
       "    </tr>\n",
       "    <tr>\n",
       "      <th>Q2</th>\n",
       "      <td>0.000221</td>\n",
       "      <td>0.000259</td>\n",
       "      <td>0.000551</td>\n",
       "      <td>0.000384</td>\n",
       "      <td>0.000431</td>\n",
       "      <td>0.000438</td>\n",
       "    </tr>\n",
       "    <tr>\n",
       "      <th>Q3</th>\n",
       "      <td>0.000516</td>\n",
       "      <td>0.000483</td>\n",
       "      <td>0.000870</td>\n",
       "      <td>0.000568</td>\n",
       "      <td>0.000594</td>\n",
       "      <td>0.000904</td>\n",
       "    </tr>\n",
       "    <tr>\n",
       "      <th>Mean</th>\n",
       "      <td>0.000604</td>\n",
       "      <td>0.000623</td>\n",
       "      <td>0.000681</td>\n",
       "      <td>0.000454</td>\n",
       "      <td>0.000698</td>\n",
       "      <td>0.000841</td>\n",
       "    </tr>\n",
       "    <tr>\n",
       "      <th>Standard deviation</th>\n",
       "      <td>0.001051</td>\n",
       "      <td>0.000862</td>\n",
       "      <td>0.000479</td>\n",
       "      <td>0.000243</td>\n",
       "      <td>0.000875</td>\n",
       "      <td>0.001070</td>\n",
       "    </tr>\n",
       "  </tbody>\n",
       "</table>\n",
       "</div>"
      ],
      "text/plain": [
       "                    lr = 0.0001, bs = 500, ts = 0.01, epoch = 10  \\\n",
       "Q1                                                      0.000181   \n",
       "Q2                                                      0.000221   \n",
       "Q3                                                      0.000516   \n",
       "Mean                                                    0.000604   \n",
       "Standard deviation                                      0.001051   \n",
       "\n",
       "                    lr = 0.0001, bs = 550, ts = 0.01, epoch = 10  \\\n",
       "Q1                                                      0.000210   \n",
       "Q2                                                      0.000259   \n",
       "Q3                                                      0.000483   \n",
       "Mean                                                    0.000623   \n",
       "Standard deviation                                      0.000862   \n",
       "\n",
       "                    lr = 0.0001, bs = 600, ts = 500, epoch = 10  \\\n",
       "Q1                                                     0.000306   \n",
       "Q2                                                     0.000551   \n",
       "Q3                                                     0.000870   \n",
       "Mean                                                   0.000681   \n",
       "Standard deviation                                     0.000479   \n",
       "\n",
       "                    lr = 0.0001, bs = 650, ts = 0.01, epoch = 10  \\\n",
       "Q1                                                      0.000300   \n",
       "Q2                                                      0.000384   \n",
       "Q3                                                      0.000568   \n",
       "Mean                                                    0.000454   \n",
       "Standard deviation                                      0.000243   \n",
       "\n",
       "                    lr = 0.0001, bs = 700, ts = 0.01, epoch = 10  \\\n",
       "Q1                                                      0.000238   \n",
       "Q2                                                      0.000431   \n",
       "Q3                                                      0.000594   \n",
       "Mean                                                    0.000698   \n",
       "Standard deviation                                      0.000875   \n",
       "\n",
       "                    lr = 0.0001, bs = 750, ts = 0.01, epoch = 10  \n",
       "Q1                                                      0.000290  \n",
       "Q2                                                      0.000438  \n",
       "Q3                                                      0.000904  \n",
       "Mean                                                    0.000841  \n",
       "Standard deviation                                      0.001070  "
      ]
     },
     "execution_count": 8,
     "metadata": {},
     "output_type": "execute_result"
    }
   ],
   "source": [
    "avg_bs = averages(bs_df)\n",
    "avg_bs"
   ]
  },
  {
   "cell_type": "markdown",
   "id": "stunning-equation",
   "metadata": {},
   "source": [
    "## Number of Epochs"
   ]
  },
  {
   "cell_type": "markdown",
   "id": "powerful-salad",
   "metadata": {},
   "source": [
    "dataframe"
   ]
  },
  {
   "cell_type": "code",
   "execution_count": 9,
   "id": "criminal-single",
   "metadata": {},
   "outputs": [
    {
     "data": {
      "text/html": [
       "<div>\n",
       "<style scoped>\n",
       "    .dataframe tbody tr th:only-of-type {\n",
       "        vertical-align: middle;\n",
       "    }\n",
       "\n",
       "    .dataframe tbody tr th {\n",
       "        vertical-align: top;\n",
       "    }\n",
       "\n",
       "    .dataframe thead th {\n",
       "        text-align: right;\n",
       "    }\n",
       "</style>\n",
       "<table border=\"1\" class=\"dataframe\">\n",
       "  <thead>\n",
       "    <tr style=\"text-align: right;\">\n",
       "      <th></th>\n",
       "      <th>lr = 0.0001, bs = 500, ts = 500, epoch = 10</th>\n",
       "      <th>lr = 0.0001, bs = 500, ts = 0.01, epoch = 20</th>\n",
       "      <th>lr = 0.0001, bs = 500, ts = 500, epoch = 30</th>\n",
       "      <th>lr = 0.0001, bs = 500, ts = 0.01, epoch = 40</th>\n",
       "      <th>lr = 0.0001, bs = 500, ts = 0.01, epoch = 50</th>\n",
       "      <th>lr = 0.0001, bs = 500, ts = 0.01, epoch = 60</th>\n",
       "    </tr>\n",
       "  </thead>\n",
       "  <tbody>\n",
       "    <tr>\n",
       "      <th>0</th>\n",
       "      <td>0.001471</td>\n",
       "      <td>0.000221</td>\n",
       "      <td>0.000081</td>\n",
       "      <td>0.000135</td>\n",
       "      <td>0.000024</td>\n",
       "      <td>0.000005</td>\n",
       "    </tr>\n",
       "    <tr>\n",
       "      <th>1</th>\n",
       "      <td>0.000753</td>\n",
       "      <td>0.000617</td>\n",
       "      <td>0.002318</td>\n",
       "      <td>0.000041</td>\n",
       "      <td>0.000189</td>\n",
       "      <td>0.000049</td>\n",
       "    </tr>\n",
       "    <tr>\n",
       "      <th>2</th>\n",
       "      <td>0.000150</td>\n",
       "      <td>0.000162</td>\n",
       "      <td>0.000037</td>\n",
       "      <td>0.000142</td>\n",
       "      <td>0.000032</td>\n",
       "      <td>0.000015</td>\n",
       "    </tr>\n",
       "    <tr>\n",
       "      <th>3</th>\n",
       "      <td>0.000136</td>\n",
       "      <td>0.000176</td>\n",
       "      <td>0.000046</td>\n",
       "      <td>0.000024</td>\n",
       "      <td>0.000208</td>\n",
       "      <td>0.000038</td>\n",
       "    </tr>\n",
       "    <tr>\n",
       "      <th>4</th>\n",
       "      <td>0.000877</td>\n",
       "      <td>0.000539</td>\n",
       "      <td>0.001083</td>\n",
       "      <td>0.000344</td>\n",
       "      <td>0.000027</td>\n",
       "      <td>0.000008</td>\n",
       "    </tr>\n",
       "  </tbody>\n",
       "</table>\n",
       "</div>"
      ],
      "text/plain": [
       "   lr = 0.0001, bs = 500, ts = 500, epoch = 10  \\\n",
       "0                                     0.001471   \n",
       "1                                     0.000753   \n",
       "2                                     0.000150   \n",
       "3                                     0.000136   \n",
       "4                                     0.000877   \n",
       "\n",
       "   lr = 0.0001, bs = 500, ts = 0.01, epoch = 20  \\\n",
       "0                                      0.000221   \n",
       "1                                      0.000617   \n",
       "2                                      0.000162   \n",
       "3                                      0.000176   \n",
       "4                                      0.000539   \n",
       "\n",
       "   lr = 0.0001, bs = 500, ts = 500, epoch = 30  \\\n",
       "0                                     0.000081   \n",
       "1                                     0.002318   \n",
       "2                                     0.000037   \n",
       "3                                     0.000046   \n",
       "4                                     0.001083   \n",
       "\n",
       "   lr = 0.0001, bs = 500, ts = 0.01, epoch = 40  \\\n",
       "0                                      0.000135   \n",
       "1                                      0.000041   \n",
       "2                                      0.000142   \n",
       "3                                      0.000024   \n",
       "4                                      0.000344   \n",
       "\n",
       "   lr = 0.0001, bs = 500, ts = 0.01, epoch = 50  \\\n",
       "0                                      0.000024   \n",
       "1                                      0.000189   \n",
       "2                                      0.000032   \n",
       "3                                      0.000208   \n",
       "4                                      0.000027   \n",
       "\n",
       "   lr = 0.0001, bs = 500, ts = 0.01, epoch = 60  \n",
       "0                                      0.000005  \n",
       "1                                      0.000049  \n",
       "2                                      0.000015  \n",
       "3                                      0.000038  \n",
       "4                                      0.000008  "
      ]
     },
     "execution_count": 9,
     "metadata": {},
     "output_type": "execute_result"
    }
   ],
   "source": [
    "data = pd.read_csv(\"../../data/boxplots/laub/num_epoches.csv\")\n",
    "epoch_df = pd.DataFrame(data=data)\n",
    "epoch_df.head()"
   ]
  },
  {
   "cell_type": "markdown",
   "id": "clean-alert",
   "metadata": {},
   "source": [
    "boxplots"
   ]
  },
  {
   "cell_type": "code",
   "execution_count": 10,
   "id": "satisfied-mozambique",
   "metadata": {},
   "outputs": [
    {
     "data": {
      "image/png": "[encoded data removed]",
      "text/plain": [
       "<Figure size 252x720 with 6 Axes>"
      ]
     },
     "metadata": {
      "needs_background": "light"
     },
     "output_type": "display_data"
    }
   ],
   "source": [
    "boxplots(3, epoch_df)"
   ]
  },
  {
   "cell_type": "markdown",
   "id": "central-violation",
   "metadata": {},
   "source": [
    "averages"
   ]
  },
  {
   "cell_type": "code",
   "execution_count": 11,
   "id": "considerable-catch",
   "metadata": {},
   "outputs": [
    {
     "data": {
      "text/html": [
       "<div>\n",
       "<style scoped>\n",
       "    .dataframe tbody tr th:only-of-type {\n",
       "        vertical-align: middle;\n",
       "    }\n",
       "\n",
       "    .dataframe tbody tr th {\n",
       "        vertical-align: top;\n",
       "    }\n",
       "\n",
       "    .dataframe thead th {\n",
       "        text-align: right;\n",
       "    }\n",
       "</style>\n",
       "<table border=\"1\" class=\"dataframe\">\n",
       "  <thead>\n",
       "    <tr style=\"text-align: right;\">\n",
       "      <th></th>\n",
       "      <th>lr = 0.0001, bs = 500, ts = 500, epoch = 10</th>\n",
       "      <th>lr = 0.0001, bs = 500, ts = 0.01, epoch = 20</th>\n",
       "      <th>lr = 0.0001, bs = 500, ts = 500, epoch = 30</th>\n",
       "      <th>lr = 0.0001, bs = 500, ts = 0.01, epoch = 40</th>\n",
       "      <th>lr = 0.0001, bs = 500, ts = 0.01, epoch = 50</th>\n",
       "      <th>lr = 0.0001, bs = 500, ts = 0.01, epoch = 60</th>\n",
       "    </tr>\n",
       "  </thead>\n",
       "  <tbody>\n",
       "    <tr>\n",
       "      <th>Q1</th>\n",
       "      <td>0.000223</td>\n",
       "      <td>0.000085</td>\n",
       "      <td>0.000034</td>\n",
       "      <td>0.000025</td>\n",
       "      <td>0.000019</td>\n",
       "      <td>0.000012</td>\n",
       "    </tr>\n",
       "    <tr>\n",
       "      <th>Q2</th>\n",
       "      <td>0.000314</td>\n",
       "      <td>0.000172</td>\n",
       "      <td>0.000053</td>\n",
       "      <td>0.000062</td>\n",
       "      <td>0.000040</td>\n",
       "      <td>0.000020</td>\n",
       "    </tr>\n",
       "    <tr>\n",
       "      <th>Q3</th>\n",
       "      <td>0.000703</td>\n",
       "      <td>0.000308</td>\n",
       "      <td>0.000183</td>\n",
       "      <td>0.000175</td>\n",
       "      <td>0.000125</td>\n",
       "      <td>0.000044</td>\n",
       "    </tr>\n",
       "    <tr>\n",
       "      <th>Mean</th>\n",
       "      <td>0.000492</td>\n",
       "      <td>0.000230</td>\n",
       "      <td>0.000345</td>\n",
       "      <td>0.000103</td>\n",
       "      <td>0.000082</td>\n",
       "      <td>0.000068</td>\n",
       "    </tr>\n",
       "    <tr>\n",
       "      <th>Standard deviation</th>\n",
       "      <td>0.000408</td>\n",
       "      <td>0.000187</td>\n",
       "      <td>0.000750</td>\n",
       "      <td>0.000092</td>\n",
       "      <td>0.000095</td>\n",
       "      <td>0.000159</td>\n",
       "    </tr>\n",
       "  </tbody>\n",
       "</table>\n",
       "</div>"
      ],
      "text/plain": [
       "                    lr = 0.0001, bs = 500, ts = 500, epoch = 10  \\\n",
       "Q1                                                     0.000223   \n",
       "Q2                                                     0.000314   \n",
       "Q3                                                     0.000703   \n",
       "Mean                                                   0.000492   \n",
       "Standard deviation                                     0.000408   \n",
       "\n",
       "                    lr = 0.0001, bs = 500, ts = 0.01, epoch = 20  \\\n",
       "Q1                                                      0.000085   \n",
       "Q2                                                      0.000172   \n",
       "Q3                                                      0.000308   \n",
       "Mean                                                    0.000230   \n",
       "Standard deviation                                      0.000187   \n",
       "\n",
       "                    lr = 0.0001, bs = 500, ts = 500, epoch = 30  \\\n",
       "Q1                                                     0.000034   \n",
       "Q2                                                     0.000053   \n",
       "Q3                                                     0.000183   \n",
       "Mean                                                   0.000345   \n",
       "Standard deviation                                     0.000750   \n",
       "\n",
       "                    lr = 0.0001, bs = 500, ts = 0.01, epoch = 40  \\\n",
       "Q1                                                      0.000025   \n",
       "Q2                                                      0.000062   \n",
       "Q3                                                      0.000175   \n",
       "Mean                                                    0.000103   \n",
       "Standard deviation                                      0.000092   \n",
       "\n",
       "                    lr = 0.0001, bs = 500, ts = 0.01, epoch = 50  \\\n",
       "Q1                                                      0.000019   \n",
       "Q2                                                      0.000040   \n",
       "Q3                                                      0.000125   \n",
       "Mean                                                    0.000082   \n",
       "Standard deviation                                      0.000095   \n",
       "\n",
       "                    lr = 0.0001, bs = 500, ts = 0.01, epoch = 60  \n",
       "Q1                                                      0.000012  \n",
       "Q2                                                      0.000020  \n",
       "Q3                                                      0.000044  \n",
       "Mean                                                    0.000068  \n",
       "Standard deviation                                      0.000159  "
      ]
     },
     "execution_count": 11,
     "metadata": {},
     "output_type": "execute_result"
    }
   ],
   "source": [
    "avg_epoch = averages(epoch_df)\n",
    "avg_epoch"
   ]
  },
  {
   "cell_type": "markdown",
   "id": "studied-training",
   "metadata": {},
   "source": [
    "## Custome"
   ]
  },
  {
   "cell_type": "markdown",
   "id": "speaking-parks",
   "metadata": {},
   "source": [
    "dataframes"
   ]
  },
  {
   "cell_type": "code",
   "execution_count": 12,
   "id": "above-minister",
   "metadata": {},
   "outputs": [
    {
     "data": {
      "text/html": [
       "<div>\n",
       "<style scoped>\n",
       "    .dataframe tbody tr th:only-of-type {\n",
       "        vertical-align: middle;\n",
       "    }\n",
       "\n",
       "    .dataframe tbody tr th {\n",
       "        vertical-align: top;\n",
       "    }\n",
       "\n",
       "    .dataframe thead th {\n",
       "        text-align: right;\n",
       "    }\n",
       "</style>\n",
       "<table border=\"1\" class=\"dataframe\">\n",
       "  <thead>\n",
       "    <tr style=\"text-align: right;\">\n",
       "      <th></th>\n",
       "      <th>lr = 5e-08, bs = 30, ts = 500, epoch = 180</th>\n",
       "      <th>lr = 5e-05, bs = 500, ts = 500, epoch = 60</th>\n",
       "      <th>lr = 5e-08, bs = 500, ts = 500, epoch = 180</th>\n",
       "      <th>lr = 5e-05, bs = 30, ts = 500, epoch = 60</th>\n",
       "    </tr>\n",
       "  </thead>\n",
       "  <tbody>\n",
       "    <tr>\n",
       "      <th>0</th>\n",
       "      <td>0.000058</td>\n",
       "      <td>0.000039</td>\n",
       "      <td>0.076281</td>\n",
       "      <td>7.842614e-07</td>\n",
       "    </tr>\n",
       "    <tr>\n",
       "      <th>1</th>\n",
       "      <td>0.000002</td>\n",
       "      <td>0.000213</td>\n",
       "      <td>0.043051</td>\n",
       "      <td>1.103190e-05</td>\n",
       "    </tr>\n",
       "    <tr>\n",
       "      <th>2</th>\n",
       "      <td>0.003215</td>\n",
       "      <td>0.000192</td>\n",
       "      <td>0.048688</td>\n",
       "      <td>4.958609e-05</td>\n",
       "    </tr>\n",
       "    <tr>\n",
       "      <th>3</th>\n",
       "      <td>0.000044</td>\n",
       "      <td>0.000027</td>\n",
       "      <td>0.082460</td>\n",
       "      <td>2.901973e-07</td>\n",
       "    </tr>\n",
       "    <tr>\n",
       "      <th>4</th>\n",
       "      <td>0.000006</td>\n",
       "      <td>0.000039</td>\n",
       "      <td>0.129698</td>\n",
       "      <td>1.222061e-07</td>\n",
       "    </tr>\n",
       "  </tbody>\n",
       "</table>\n",
       "</div>"
      ],
      "text/plain": [
       "   lr = 5e-08, bs = 30, ts = 500, epoch = 180  \\\n",
       "0                                    0.000058   \n",
       "1                                    0.000002   \n",
       "2                                    0.003215   \n",
       "3                                    0.000044   \n",
       "4                                    0.000006   \n",
       "\n",
       "   lr = 5e-05, bs = 500, ts = 500, epoch = 60  \\\n",
       "0                                    0.000039   \n",
       "1                                    0.000213   \n",
       "2                                    0.000192   \n",
       "3                                    0.000027   \n",
       "4                                    0.000039   \n",
       "\n",
       "   lr = 5e-08, bs = 500, ts = 500, epoch = 180  \\\n",
       "0                                     0.076281   \n",
       "1                                     0.043051   \n",
       "2                                     0.048688   \n",
       "3                                     0.082460   \n",
       "4                                     0.129698   \n",
       "\n",
       "   lr = 5e-05, bs = 30, ts = 500, epoch = 60  \n",
       "0                               7.842614e-07  \n",
       "1                               1.103190e-05  \n",
       "2                               4.958609e-05  \n",
       "3                               2.901973e-07  \n",
       "4                               1.222061e-07  "
      ]
     },
     "execution_count": 12,
     "metadata": {},
     "output_type": "execute_result"
    }
   ],
   "source": [
    "data = pd.read_csv(\"../../data/boxplots/laub/custome.csv\")\n",
    "custome_df = pd.DataFrame(data=data)\n",
    "custome_df.head()"
   ]
  },
  {
   "cell_type": "markdown",
   "id": "fantastic-thesis",
   "metadata": {},
   "source": [
    "boxplots"
   ]
  },
  {
   "cell_type": "code",
   "execution_count": 13,
   "id": "current-seeker",
   "metadata": {},
   "outputs": [
    {
     "data": {
      "image/png": "[encoded data removed]",
      "text/plain": [
       "<Figure size 252x720 with 4 Axes>"
      ]
     },
     "metadata": {
      "needs_background": "light"
     },
     "output_type": "display_data"
    }
   ],
   "source": [
    "boxplots(2, custome_df)"
   ]
  },
  {
   "cell_type": "markdown",
   "id": "enhanced-shopping",
   "metadata": {},
   "source": [
    "averages"
   ]
  },
  {
   "cell_type": "code",
   "execution_count": 14,
   "id": "running-deviation",
   "metadata": {},
   "outputs": [
    {
     "data": {
      "text/html": [
       "<div>\n",
       "<style scoped>\n",
       "    .dataframe tbody tr th:only-of-type {\n",
       "        vertical-align: middle;\n",
       "    }\n",
       "\n",
       "    .dataframe tbody tr th {\n",
       "        vertical-align: top;\n",
       "    }\n",
       "\n",
       "    .dataframe thead th {\n",
       "        text-align: right;\n",
       "    }\n",
       "</style>\n",
       "<table border=\"1\" class=\"dataframe\">\n",
       "  <thead>\n",
       "    <tr style=\"text-align: right;\">\n",
       "      <th></th>\n",
       "      <th>lr = 5e-08, bs = 30, ts = 500, epoch = 180</th>\n",
       "      <th>lr = 5e-05, bs = 500, ts = 500, epoch = 60</th>\n",
       "      <th>lr = 5e-08, bs = 500, ts = 500, epoch = 180</th>\n",
       "      <th>lr = 5e-05, bs = 30, ts = 500, epoch = 60</th>\n",
       "    </tr>\n",
       "  </thead>\n",
       "  <tbody>\n",
       "    <tr>\n",
       "      <th>Q1</th>\n",
       "      <td>0.000109</td>\n",
       "      <td>0.000024</td>\n",
       "      <td>0.053005</td>\n",
       "      <td>2.280398e-07</td>\n",
       "    </tr>\n",
       "    <tr>\n",
       "      <th>Q2</th>\n",
       "      <td>0.000364</td>\n",
       "      <td>0.000039</td>\n",
       "      <td>0.075252</td>\n",
       "      <td>4.783436e-07</td>\n",
       "    </tr>\n",
       "    <tr>\n",
       "      <th>Q3</th>\n",
       "      <td>0.001167</td>\n",
       "      <td>0.000150</td>\n",
       "      <td>0.088986</td>\n",
       "      <td>1.809171e-06</td>\n",
       "    </tr>\n",
       "    <tr>\n",
       "      <th>Mean</th>\n",
       "      <td>0.004127</td>\n",
       "      <td>0.000102</td>\n",
       "      <td>0.074739</td>\n",
       "      <td>7.111405e-06</td>\n",
       "    </tr>\n",
       "    <tr>\n",
       "      <th>Standard deviation</th>\n",
       "      <td>0.010961</td>\n",
       "      <td>0.000134</td>\n",
       "      <td>0.028247</td>\n",
       "      <td>2.234137e-05</td>\n",
       "    </tr>\n",
       "  </tbody>\n",
       "</table>\n",
       "</div>"
      ],
      "text/plain": [
       "                    lr = 5e-08, bs = 30, ts = 500, epoch = 180  \\\n",
       "Q1                                                    0.000109   \n",
       "Q2                                                    0.000364   \n",
       "Q3                                                    0.001167   \n",
       "Mean                                                  0.004127   \n",
       "Standard deviation                                    0.010961   \n",
       "\n",
       "                    lr = 5e-05, bs = 500, ts = 500, epoch = 60  \\\n",
       "Q1                                                    0.000024   \n",
       "Q2                                                    0.000039   \n",
       "Q3                                                    0.000150   \n",
       "Mean                                                  0.000102   \n",
       "Standard deviation                                    0.000134   \n",
       "\n",
       "                    lr = 5e-08, bs = 500, ts = 500, epoch = 180  \\\n",
       "Q1                                                     0.053005   \n",
       "Q2                                                     0.075252   \n",
       "Q3                                                     0.088986   \n",
       "Mean                                                   0.074739   \n",
       "Standard deviation                                     0.028247   \n",
       "\n",
       "                    lr = 5e-05, bs = 30, ts = 500, epoch = 60  \n",
       "Q1                                               2.280398e-07  \n",
       "Q2                                               4.783436e-07  \n",
       "Q3                                               1.809171e-06  \n",
       "Mean                                             7.111405e-06  \n",
       "Standard deviation                               2.234137e-05  "
      ]
     },
     "execution_count": 14,
     "metadata": {},
     "output_type": "execute_result"
    }
   ],
   "source": [
    "avg_custome = averages(custome_df)\n",
    "avg_custome"
   ]
  },
  {
   "cell_type": "code",
   "execution_count": null,
   "id": "c5800635",
   "metadata": {},
   "outputs": [],
   "source": []
  }
 ],
 "metadata": {
  "kernelspec": {
   "display_name": "Python 3",
   "language": "python",
   "name": "python3"
  },
  "language_info": {
   "codemirror_mode": {
    "name": "ipython",
    "version": 3
   },
   "file_extension": ".py",
   "mimetype": "text/x-python",
   "name": "python",
   "nbconvert_exporter": "python",
   "pygments_lexer": "ipython3",
   "version": "3.8.1"
  }
 },
 "nbformat": 4,
 "nbformat_minor": 5
}
