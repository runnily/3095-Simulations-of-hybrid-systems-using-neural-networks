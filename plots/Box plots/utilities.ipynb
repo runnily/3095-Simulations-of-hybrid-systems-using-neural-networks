{
 "cells": [
  {
   "cell_type": "code",
   "execution_count": 1,
   "id": "competent-genre",
   "metadata": {},
   "outputs": [],
   "source": [
    "import pandas as pd\n",
    "import seaborn as sns\n",
    "import matplotlib.pyplot as plt"
   ]
  },
  {
   "cell_type": "code",
   "execution_count": 2,
   "id": "cubic-dylan",
   "metadata": {},
   "outputs": [],
   "source": [
    "def boxplots(rows, df):\n",
    "    fig, axs = plt.subplots(rows,2,figsize=(3.5,10))\n",
    "    col = 0\n",
    "    row = 0 \n",
    "    for col_name in df.columns:\n",
    "        ax = axs[row][col]\n",
    "        sns.boxplot(data=df[col_name], ax=ax, )\n",
    "        ax.set_title(col_name)\n",
    "        col += 1\n",
    "        if (col == 2):\n",
    "            col = 0\n",
    "            row += 1\n",
    "    return fig.tight_layout()"
   ]
  },
  {
   "cell_type": "code",
   "execution_count": null,
   "id": "human-bradley",
   "metadata": {},
   "outputs": [],
   "source": []
  }
 ],
 "metadata": {
  "kernelspec": {
   "display_name": "Python 3",
   "language": "python",
   "name": "python3"
  },
  "language_info": {
   "codemirror_mode": {
    "name": "ipython",
    "version": 3
   },
   "file_extension": ".py",
   "mimetype": "text/x-python",
   "name": "python",
   "nbconvert_exporter": "python",
   "pygments_lexer": "ipython3",
   "version": "3.8.1"
  }
 },
 "nbformat": 4,
 "nbformat_minor": 5
}
