{
 "cells": [
  {
   "cell_type": "code",
   "execution_count": 1,
   "id": "split-stewart",
   "metadata": {},
   "outputs": [],
   "source": [
    "import numpy as np\n",
    "import pandas as pd\n",
    "import seaborn as sns\n",
    "import matplotlib.pyplot as plt\n",
    "from ipynb.fs.full.utilities import boxplots, averages"
   ]
  },
  {
   "cell_type": "markdown",
   "id": "focal-taxation",
   "metadata": {},
   "source": [
    "# Content"
   ]
  },
  {
   "cell_type": "markdown",
   "id": "toxic-wagner",
   "metadata": {},
   "source": [
    "This is interpreting results of 30 data loss items corresponding to learning parameters"
   ]
  },
  {
   "cell_type": "markdown",
   "id": "bibliographic-advertiser",
   "metadata": {},
   "source": [
    "The default parameters can be shown below:\n",
    "<ol>\n",
    "    <li> learning rate = 0.0005 </li>\n",
    "    <li> batch size = 15 </li>\n",
    "    <li> time step = 0.001 </li>\n",
    "    <li> num epoches = 20 </li>\n",
    "</ol>"
   ]
  },
  {
   "cell_type": "markdown",
   "id": "smooth-boxing",
   "metadata": {},
   "source": [
    "## Learning rate"
   ]
  },
  {
   "cell_type": "markdown",
   "id": "surprised-accommodation",
   "metadata": {},
   "source": [
    "This illustrates the learning rate parameter affects on the loss"
   ]
  },
  {
   "cell_type": "code",
   "execution_count": 2,
   "id": "annoying-lebanon",
   "metadata": {},
   "outputs": [
    {
     "data": {
      "text/html": [
       "<div>\n",
       "<style scoped>\n",
       "    .dataframe tbody tr th:only-of-type {\n",
       "        vertical-align: middle;\n",
       "    }\n",
       "\n",
       "    .dataframe tbody tr th {\n",
       "        vertical-align: top;\n",
       "    }\n",
       "\n",
       "    .dataframe thead th {\n",
       "        text-align: right;\n",
       "    }\n",
       "</style>\n",
       "<table border=\"1\" class=\"dataframe\">\n",
       "  <thead>\n",
       "    <tr style=\"text-align: right;\">\n",
       "      <th></th>\n",
       "      <th>lr = 0.5, bs = 15, ts = 15, epoch = 20</th>\n",
       "      <th>lr = 0.005, bs = 15, ts = 15, epoch = 20</th>\n",
       "      <th>lr = 0.0005, bs = 15, ts = 15, epoch = 20</th>\n",
       "      <th>lr = 5e-05, bs = 15, ts = 15, epoch = 20</th>\n",
       "      <th>lr = 5e-06, bs = 15, ts = 15, epoch = 20</th>\n",
       "      <th>lr = 5e-07, bs = 15, ts = 15, epoch = 20</th>\n",
       "    </tr>\n",
       "  </thead>\n",
       "  <tbody>\n",
       "    <tr>\n",
       "      <th>0</th>\n",
       "      <td>2.722839</td>\n",
       "      <td>0.009058</td>\n",
       "      <td>0.000225</td>\n",
       "      <td>0.000373</td>\n",
       "      <td>0.075682</td>\n",
       "      <td>1.138916</td>\n",
       "    </tr>\n",
       "    <tr>\n",
       "      <th>1</th>\n",
       "      <td>2.339960</td>\n",
       "      <td>0.002468</td>\n",
       "      <td>0.002965</td>\n",
       "      <td>0.000454</td>\n",
       "      <td>0.001243</td>\n",
       "      <td>1.187825</td>\n",
       "    </tr>\n",
       "    <tr>\n",
       "      <th>2</th>\n",
       "      <td>2.172816</td>\n",
       "      <td>0.007678</td>\n",
       "      <td>0.000521</td>\n",
       "      <td>0.000557</td>\n",
       "      <td>0.030161</td>\n",
       "      <td>1.626615</td>\n",
       "    </tr>\n",
       "    <tr>\n",
       "      <th>3</th>\n",
       "      <td>2.268238</td>\n",
       "      <td>0.006596</td>\n",
       "      <td>0.000485</td>\n",
       "      <td>0.000109</td>\n",
       "      <td>0.008980</td>\n",
       "      <td>1.230843</td>\n",
       "    </tr>\n",
       "    <tr>\n",
       "      <th>4</th>\n",
       "      <td>2.200508</td>\n",
       "      <td>0.002562</td>\n",
       "      <td>0.002558</td>\n",
       "      <td>0.000344</td>\n",
       "      <td>0.003498</td>\n",
       "      <td>1.072013</td>\n",
       "    </tr>\n",
       "  </tbody>\n",
       "</table>\n",
       "</div>"
      ],
      "text/plain": [
       "   lr = 0.5, bs = 15, ts = 15, epoch = 20  \\\n",
       "0                                2.722839   \n",
       "1                                2.339960   \n",
       "2                                2.172816   \n",
       "3                                2.268238   \n",
       "4                                2.200508   \n",
       "\n",
       "   lr = 0.005, bs = 15, ts = 15, epoch = 20  \\\n",
       "0                                  0.009058   \n",
       "1                                  0.002468   \n",
       "2                                  0.007678   \n",
       "3                                  0.006596   \n",
       "4                                  0.002562   \n",
       "\n",
       "   lr = 0.0005, bs = 15, ts = 15, epoch = 20  \\\n",
       "0                                   0.000225   \n",
       "1                                   0.002965   \n",
       "2                                   0.000521   \n",
       "3                                   0.000485   \n",
       "4                                   0.002558   \n",
       "\n",
       "   lr = 5e-05, bs = 15, ts = 15, epoch = 20  \\\n",
       "0                                  0.000373   \n",
       "1                                  0.000454   \n",
       "2                                  0.000557   \n",
       "3                                  0.000109   \n",
       "4                                  0.000344   \n",
       "\n",
       "   lr = 5e-06, bs = 15, ts = 15, epoch = 20  \\\n",
       "0                                  0.075682   \n",
       "1                                  0.001243   \n",
       "2                                  0.030161   \n",
       "3                                  0.008980   \n",
       "4                                  0.003498   \n",
       "\n",
       "   lr = 5e-07, bs = 15, ts = 15, epoch = 20  \n",
       "0                                  1.138916  \n",
       "1                                  1.187825  \n",
       "2                                  1.626615  \n",
       "3                                  1.230843  \n",
       "4                                  1.072013  "
      ]
     },
     "execution_count": 2,
     "metadata": {},
     "output_type": "execute_result"
    }
   ],
   "source": [
    "data = pd.read_csv(\"../../data/boxplots/van/lr.csv\")\n",
    "lr_df = pd.DataFrame(data=data)\n",
    "lr_df.head()"
   ]
  },
  {
   "cell_type": "markdown",
   "id": "beneficial-cameroon",
   "metadata": {},
   "source": [
    "boxplots"
   ]
  },
  {
   "cell_type": "code",
   "execution_count": 3,
   "id": "smooth-employer",
   "metadata": {},
   "outputs": [
    {
     "data": {
      "image/png": "[encoded data removed]",
      "text/plain": [
       "<Figure size 252x720 with 6 Axes>"
      ]
     },
     "metadata": {
      "needs_background": "light"
     },
     "output_type": "display_data"
    }
   ],
   "source": [
    "boxplots(3, lr_df)"
   ]
  },
  {
   "cell_type": "markdown",
   "id": "expected-radius",
   "metadata": {},
   "source": [
    "averages"
   ]
  },
  {
   "cell_type": "code",
   "execution_count": 4,
   "id": "authorized-flashing",
   "metadata": {},
   "outputs": [
    {
     "data": {
      "text/html": [
       "<div>\n",
       "<style scoped>\n",
       "    .dataframe tbody tr th:only-of-type {\n",
       "        vertical-align: middle;\n",
       "    }\n",
       "\n",
       "    .dataframe tbody tr th {\n",
       "        vertical-align: top;\n",
       "    }\n",
       "\n",
       "    .dataframe thead th {\n",
       "        text-align: right;\n",
       "    }\n",
       "</style>\n",
       "<table border=\"1\" class=\"dataframe\">\n",
       "  <thead>\n",
       "    <tr style=\"text-align: right;\">\n",
       "      <th></th>\n",
       "      <th>lr = 0.5, bs = 15, ts = 15, epoch = 20</th>\n",
       "      <th>lr = 0.005, bs = 15, ts = 15, epoch = 20</th>\n",
       "      <th>lr = 0.0005, bs = 15, ts = 15, epoch = 20</th>\n",
       "      <th>lr = 5e-05, bs = 15, ts = 15, epoch = 20</th>\n",
       "      <th>lr = 5e-06, bs = 15, ts = 15, epoch = 20</th>\n",
       "      <th>lr = 5e-07, bs = 15, ts = 15, epoch = 20</th>\n",
       "    </tr>\n",
       "  </thead>\n",
       "  <tbody>\n",
       "    <tr>\n",
       "      <th>Q1</th>\n",
       "      <td>2.078812</td>\n",
       "      <td>0.002492</td>\n",
       "      <td>0.000251</td>\n",
       "      <td>0.000352</td>\n",
       "      <td>0.003591</td>\n",
       "      <td>1.141486</td>\n",
       "    </tr>\n",
       "    <tr>\n",
       "      <th>Q2</th>\n",
       "      <td>2.233722</td>\n",
       "      <td>0.004442</td>\n",
       "      <td>0.000436</td>\n",
       "      <td>0.000531</td>\n",
       "      <td>0.008248</td>\n",
       "      <td>1.289878</td>\n",
       "    </tr>\n",
       "    <tr>\n",
       "      <th>Q3</th>\n",
       "      <td>2.359528</td>\n",
       "      <td>0.006164</td>\n",
       "      <td>0.000956</td>\n",
       "      <td>0.001047</td>\n",
       "      <td>0.017755</td>\n",
       "      <td>1.498740</td>\n",
       "    </tr>\n",
       "    <tr>\n",
       "      <th>Mean</th>\n",
       "      <td>2.240288</td>\n",
       "      <td>0.005737</td>\n",
       "      <td>0.001117</td>\n",
       "      <td>0.001162</td>\n",
       "      <td>0.015224</td>\n",
       "      <td>1.355591</td>\n",
       "    </tr>\n",
       "    <tr>\n",
       "      <th>Standard deviation</th>\n",
       "      <td>0.236520</td>\n",
       "      <td>0.005684</td>\n",
       "      <td>0.001493</td>\n",
       "      <td>0.001749</td>\n",
       "      <td>0.019571</td>\n",
       "      <td>0.282192</td>\n",
       "    </tr>\n",
       "  </tbody>\n",
       "</table>\n",
       "</div>"
      ],
      "text/plain": [
       "                    lr = 0.5, bs = 15, ts = 15, epoch = 20  \\\n",
       "Q1                                                2.078812   \n",
       "Q2                                                2.233722   \n",
       "Q3                                                2.359528   \n",
       "Mean                                              2.240288   \n",
       "Standard deviation                                0.236520   \n",
       "\n",
       "                    lr = 0.005, bs = 15, ts = 15, epoch = 20  \\\n",
       "Q1                                                  0.002492   \n",
       "Q2                                                  0.004442   \n",
       "Q3                                                  0.006164   \n",
       "Mean                                                0.005737   \n",
       "Standard deviation                                  0.005684   \n",
       "\n",
       "                    lr = 0.0005, bs = 15, ts = 15, epoch = 20  \\\n",
       "Q1                                                   0.000251   \n",
       "Q2                                                   0.000436   \n",
       "Q3                                                   0.000956   \n",
       "Mean                                                 0.001117   \n",
       "Standard deviation                                   0.001493   \n",
       "\n",
       "                    lr = 5e-05, bs = 15, ts = 15, epoch = 20  \\\n",
       "Q1                                                  0.000352   \n",
       "Q2                                                  0.000531   \n",
       "Q3                                                  0.001047   \n",
       "Mean                                                0.001162   \n",
       "Standard deviation                                  0.001749   \n",
       "\n",
       "                    lr = 5e-06, bs = 15, ts = 15, epoch = 20  \\\n",
       "Q1                                                  0.003591   \n",
       "Q2                                                  0.008248   \n",
       "Q3                                                  0.017755   \n",
       "Mean                                                0.015224   \n",
       "Standard deviation                                  0.019571   \n",
       "\n",
       "                    lr = 5e-07, bs = 15, ts = 15, epoch = 20  \n",
       "Q1                                                  1.141486  \n",
       "Q2                                                  1.289878  \n",
       "Q3                                                  1.498740  \n",
       "Mean                                                1.355591  \n",
       "Standard deviation                                  0.282192  "
      ]
     },
     "execution_count": 4,
     "metadata": {},
     "output_type": "execute_result"
    }
   ],
   "source": [
    "avg_lr = averages(lr_df)\n",
    "avg_lr"
   ]
  },
  {
   "cell_type": "markdown",
   "id": "dependent-maintenance",
   "metadata": {},
   "source": [
    "## Batch Size"
   ]
  },
  {
   "cell_type": "markdown",
   "id": "knowing-richmond",
   "metadata": {},
   "source": [
    "batch size"
   ]
  },
  {
   "cell_type": "code",
   "execution_count": 5,
   "id": "extreme-presentation",
   "metadata": {},
   "outputs": [
    {
     "data": {
      "text/html": [
       "<div>\n",
       "<style scoped>\n",
       "    .dataframe tbody tr th:only-of-type {\n",
       "        vertical-align: middle;\n",
       "    }\n",
       "\n",
       "    .dataframe tbody tr th {\n",
       "        vertical-align: top;\n",
       "    }\n",
       "\n",
       "    .dataframe thead th {\n",
       "        text-align: right;\n",
       "    }\n",
       "</style>\n",
       "<table border=\"1\" class=\"dataframe\">\n",
       "  <thead>\n",
       "    <tr style=\"text-align: right;\">\n",
       "      <th></th>\n",
       "      <th>lr = 0.0005, bs = 15, ts = 15, epoch = 20</th>\n",
       "      <th>lr = 0.0005, bs = 20, ts = 15, epoch = 20</th>\n",
       "      <th>lr = 0.0005, bs = 25, ts = 15, epoch = 20</th>\n",
       "      <th>lr = 0.0005, bs = 30, ts = 15, epoch = 20</th>\n",
       "      <th>lr = 0.0005, bs = 35, ts = 15, epoch = 20</th>\n",
       "      <th>lr = 0.0005, bs = 40, ts = 15, epoch = 20</th>\n",
       "    </tr>\n",
       "  </thead>\n",
       "  <tbody>\n",
       "    <tr>\n",
       "      <th>0</th>\n",
       "      <td>0.000426</td>\n",
       "      <td>0.000305</td>\n",
       "      <td>0.001148</td>\n",
       "      <td>0.000376</td>\n",
       "      <td>0.002194</td>\n",
       "      <td>0.000338</td>\n",
       "    </tr>\n",
       "    <tr>\n",
       "      <th>1</th>\n",
       "      <td>0.000542</td>\n",
       "      <td>0.001329</td>\n",
       "      <td>0.000578</td>\n",
       "      <td>0.000170</td>\n",
       "      <td>0.000591</td>\n",
       "      <td>0.000171</td>\n",
       "    </tr>\n",
       "    <tr>\n",
       "      <th>2</th>\n",
       "      <td>0.000733</td>\n",
       "      <td>0.001419</td>\n",
       "      <td>0.000345</td>\n",
       "      <td>0.000866</td>\n",
       "      <td>0.000409</td>\n",
       "      <td>0.000098</td>\n",
       "    </tr>\n",
       "    <tr>\n",
       "      <th>3</th>\n",
       "      <td>0.000453</td>\n",
       "      <td>0.001466</td>\n",
       "      <td>0.000519</td>\n",
       "      <td>0.000213</td>\n",
       "      <td>0.000156</td>\n",
       "      <td>0.001135</td>\n",
       "    </tr>\n",
       "    <tr>\n",
       "      <th>4</th>\n",
       "      <td>0.001263</td>\n",
       "      <td>0.000305</td>\n",
       "      <td>0.000532</td>\n",
       "      <td>0.003711</td>\n",
       "      <td>0.000519</td>\n",
       "      <td>0.000399</td>\n",
       "    </tr>\n",
       "  </tbody>\n",
       "</table>\n",
       "</div>"
      ],
      "text/plain": [
       "   lr = 0.0005, bs = 15, ts = 15, epoch = 20  \\\n",
       "0                                   0.000426   \n",
       "1                                   0.000542   \n",
       "2                                   0.000733   \n",
       "3                                   0.000453   \n",
       "4                                   0.001263   \n",
       "\n",
       "   lr = 0.0005, bs = 20, ts = 15, epoch = 20  \\\n",
       "0                                   0.000305   \n",
       "1                                   0.001329   \n",
       "2                                   0.001419   \n",
       "3                                   0.001466   \n",
       "4                                   0.000305   \n",
       "\n",
       "   lr = 0.0005, bs = 25, ts = 15, epoch = 20  \\\n",
       "0                                   0.001148   \n",
       "1                                   0.000578   \n",
       "2                                   0.000345   \n",
       "3                                   0.000519   \n",
       "4                                   0.000532   \n",
       "\n",
       "   lr = 0.0005, bs = 30, ts = 15, epoch = 20  \\\n",
       "0                                   0.000376   \n",
       "1                                   0.000170   \n",
       "2                                   0.000866   \n",
       "3                                   0.000213   \n",
       "4                                   0.003711   \n",
       "\n",
       "   lr = 0.0005, bs = 35, ts = 15, epoch = 20  \\\n",
       "0                                   0.002194   \n",
       "1                                   0.000591   \n",
       "2                                   0.000409   \n",
       "3                                   0.000156   \n",
       "4                                   0.000519   \n",
       "\n",
       "   lr = 0.0005, bs = 40, ts = 15, epoch = 20  \n",
       "0                                   0.000338  \n",
       "1                                   0.000171  \n",
       "2                                   0.000098  \n",
       "3                                   0.001135  \n",
       "4                                   0.000399  "
      ]
     },
     "execution_count": 5,
     "metadata": {},
     "output_type": "execute_result"
    }
   ],
   "source": [
    "data = pd.read_csv(\"../../data/boxplots/van/batch_size.csv\")\n",
    "bs_df = pd.DataFrame(data=data)\n",
    "bs_df\n",
    "bs_df.head()"
   ]
  },
  {
   "cell_type": "markdown",
   "id": "ranking-planner",
   "metadata": {},
   "source": [
    "box plots"
   ]
  },
  {
   "cell_type": "code",
   "execution_count": 6,
   "id": "sporting-farmer",
   "metadata": {},
   "outputs": [
    {
     "data": {
      "image/png": "[encoded data removed]",
      "text/plain": [
       "<Figure size 252x720 with 6 Axes>"
      ]
     },
     "metadata": {
      "needs_background": "light"
     },
     "output_type": "display_data"
    }
   ],
   "source": [
    "boxplots(3, bs_df)"
   ]
  },
  {
   "cell_type": "markdown",
   "id": "affected-authority",
   "metadata": {},
   "source": [
    "averages"
   ]
  },
  {
   "cell_type": "code",
   "execution_count": 7,
   "id": "capable-hybrid",
   "metadata": {},
   "outputs": [
    {
     "data": {
      "text/html": [
       "<div>\n",
       "<style scoped>\n",
       "    .dataframe tbody tr th:only-of-type {\n",
       "        vertical-align: middle;\n",
       "    }\n",
       "\n",
       "    .dataframe tbody tr th {\n",
       "        vertical-align: top;\n",
       "    }\n",
       "\n",
       "    .dataframe thead th {\n",
       "        text-align: right;\n",
       "    }\n",
       "</style>\n",
       "<table border=\"1\" class=\"dataframe\">\n",
       "  <thead>\n",
       "    <tr style=\"text-align: right;\">\n",
       "      <th></th>\n",
       "      <th>lr = 0.0005, bs = 15, ts = 15, epoch = 20</th>\n",
       "      <th>lr = 0.0005, bs = 20, ts = 15, epoch = 20</th>\n",
       "      <th>lr = 0.0005, bs = 25, ts = 15, epoch = 20</th>\n",
       "      <th>lr = 0.0005, bs = 30, ts = 15, epoch = 20</th>\n",
       "      <th>lr = 0.0005, bs = 35, ts = 15, epoch = 20</th>\n",
       "      <th>lr = 0.0005, bs = 40, ts = 15, epoch = 20</th>\n",
       "    </tr>\n",
       "  </thead>\n",
       "  <tbody>\n",
       "    <tr>\n",
       "      <th>Q1</th>\n",
       "      <td>0.000359</td>\n",
       "      <td>0.000305</td>\n",
       "      <td>0.000259</td>\n",
       "      <td>0.000325</td>\n",
       "      <td>0.000233</td>\n",
       "      <td>0.000181</td>\n",
       "    </tr>\n",
       "    <tr>\n",
       "      <th>Q2</th>\n",
       "      <td>0.000508</td>\n",
       "      <td>0.000560</td>\n",
       "      <td>0.000525</td>\n",
       "      <td>0.000757</td>\n",
       "      <td>0.000421</td>\n",
       "      <td>0.000362</td>\n",
       "    </tr>\n",
       "    <tr>\n",
       "      <th>Q3</th>\n",
       "      <td>0.000750</td>\n",
       "      <td>0.001388</td>\n",
       "      <td>0.001078</td>\n",
       "      <td>0.001568</td>\n",
       "      <td>0.000920</td>\n",
       "      <td>0.000680</td>\n",
       "    </tr>\n",
       "    <tr>\n",
       "      <th>Mean</th>\n",
       "      <td>0.000670</td>\n",
       "      <td>0.002892</td>\n",
       "      <td>0.000971</td>\n",
       "      <td>0.001890</td>\n",
       "      <td>0.001346</td>\n",
       "      <td>0.000716</td>\n",
       "    </tr>\n",
       "    <tr>\n",
       "      <th>Standard deviation</th>\n",
       "      <td>0.000534</td>\n",
       "      <td>0.008764</td>\n",
       "      <td>0.001278</td>\n",
       "      <td>0.003724</td>\n",
       "      <td>0.003675</td>\n",
       "      <td>0.000866</td>\n",
       "    </tr>\n",
       "  </tbody>\n",
       "</table>\n",
       "</div>"
      ],
      "text/plain": [
       "                    lr = 0.0005, bs = 15, ts = 15, epoch = 20  \\\n",
       "Q1                                                   0.000359   \n",
       "Q2                                                   0.000508   \n",
       "Q3                                                   0.000750   \n",
       "Mean                                                 0.000670   \n",
       "Standard deviation                                   0.000534   \n",
       "\n",
       "                    lr = 0.0005, bs = 20, ts = 15, epoch = 20  \\\n",
       "Q1                                                   0.000305   \n",
       "Q2                                                   0.000560   \n",
       "Q3                                                   0.001388   \n",
       "Mean                                                 0.002892   \n",
       "Standard deviation                                   0.008764   \n",
       "\n",
       "                    lr = 0.0005, bs = 25, ts = 15, epoch = 20  \\\n",
       "Q1                                                   0.000259   \n",
       "Q2                                                   0.000525   \n",
       "Q3                                                   0.001078   \n",
       "Mean                                                 0.000971   \n",
       "Standard deviation                                   0.001278   \n",
       "\n",
       "                    lr = 0.0005, bs = 30, ts = 15, epoch = 20  \\\n",
       "Q1                                                   0.000325   \n",
       "Q2                                                   0.000757   \n",
       "Q3                                                   0.001568   \n",
       "Mean                                                 0.001890   \n",
       "Standard deviation                                   0.003724   \n",
       "\n",
       "                    lr = 0.0005, bs = 35, ts = 15, epoch = 20  \\\n",
       "Q1                                                   0.000233   \n",
       "Q2                                                   0.000421   \n",
       "Q3                                                   0.000920   \n",
       "Mean                                                 0.001346   \n",
       "Standard deviation                                   0.003675   \n",
       "\n",
       "                    lr = 0.0005, bs = 40, ts = 15, epoch = 20  \n",
       "Q1                                                   0.000181  \n",
       "Q2                                                   0.000362  \n",
       "Q3                                                   0.000680  \n",
       "Mean                                                 0.000716  \n",
       "Standard deviation                                   0.000866  "
      ]
     },
     "execution_count": 7,
     "metadata": {},
     "output_type": "execute_result"
    }
   ],
   "source": [
    "avg_bs = averages(bs_df)\n",
    "avg_bs"
   ]
  },
  {
   "cell_type": "markdown",
   "id": "hidden-principal",
   "metadata": {},
   "source": [
    "## Number of Epoches"
   ]
  },
  {
   "cell_type": "markdown",
   "id": "enabling-local",
   "metadata": {},
   "source": [
    "dataframes"
   ]
  },
  {
   "cell_type": "code",
   "execution_count": 8,
   "id": "confidential-elevation",
   "metadata": {},
   "outputs": [
    {
     "data": {
      "text/html": [
       "<div>\n",
       "<style scoped>\n",
       "    .dataframe tbody tr th:only-of-type {\n",
       "        vertical-align: middle;\n",
       "    }\n",
       "\n",
       "    .dataframe tbody tr th {\n",
       "        vertical-align: top;\n",
       "    }\n",
       "\n",
       "    .dataframe thead th {\n",
       "        text-align: right;\n",
       "    }\n",
       "</style>\n",
       "<table border=\"1\" class=\"dataframe\">\n",
       "  <thead>\n",
       "    <tr style=\"text-align: right;\">\n",
       "      <th></th>\n",
       "      <th>lr = 0.0001, bs = 50, ts = 1, epoch = 50</th>\n",
       "      <th>lr = 0.0001, bs = 50, ts = 1, epoch = 100</th>\n",
       "      <th>lr = 0.0001, bs = 50, ts = 1, epoch = 150</th>\n",
       "      <th>lr = 0.0001, bs = 50, ts = 1, epoch = 200</th>\n",
       "      <th>lr = 0.0001, bs = 50, ts = 1, epoch = 250</th>\n",
       "      <th>lr = 0.0001, bs = 50, ts = 1, epoch = 300</th>\n",
       "    </tr>\n",
       "  </thead>\n",
       "  <tbody>\n",
       "    <tr>\n",
       "      <th>0</th>\n",
       "      <td>0.013166</td>\n",
       "      <td>0.010811</td>\n",
       "      <td>0.003971</td>\n",
       "      <td>0.008995</td>\n",
       "      <td>0.026008</td>\n",
       "      <td>0.015288</td>\n",
       "    </tr>\n",
       "    <tr>\n",
       "      <th>1</th>\n",
       "      <td>0.042301</td>\n",
       "      <td>0.006388</td>\n",
       "      <td>0.059190</td>\n",
       "      <td>0.219389</td>\n",
       "      <td>0.007964</td>\n",
       "      <td>0.028095</td>\n",
       "    </tr>\n",
       "    <tr>\n",
       "      <th>2</th>\n",
       "      <td>0.206662</td>\n",
       "      <td>0.008023</td>\n",
       "      <td>0.020393</td>\n",
       "      <td>0.006208</td>\n",
       "      <td>0.001591</td>\n",
       "      <td>0.009669</td>\n",
       "    </tr>\n",
       "    <tr>\n",
       "      <th>3</th>\n",
       "      <td>0.003292</td>\n",
       "      <td>0.003157</td>\n",
       "      <td>0.002262</td>\n",
       "      <td>0.013330</td>\n",
       "      <td>0.065597</td>\n",
       "      <td>0.006641</td>\n",
       "    </tr>\n",
       "    <tr>\n",
       "      <th>4</th>\n",
       "      <td>0.004773</td>\n",
       "      <td>0.002721</td>\n",
       "      <td>0.011100</td>\n",
       "      <td>0.008155</td>\n",
       "      <td>0.004191</td>\n",
       "      <td>0.020800</td>\n",
       "    </tr>\n",
       "  </tbody>\n",
       "</table>\n",
       "</div>"
      ],
      "text/plain": [
       "   lr = 0.0001, bs = 50, ts = 1, epoch = 50  \\\n",
       "0                                  0.013166   \n",
       "1                                  0.042301   \n",
       "2                                  0.206662   \n",
       "3                                  0.003292   \n",
       "4                                  0.004773   \n",
       "\n",
       "   lr = 0.0001, bs = 50, ts = 1, epoch = 100  \\\n",
       "0                                   0.010811   \n",
       "1                                   0.006388   \n",
       "2                                   0.008023   \n",
       "3                                   0.003157   \n",
       "4                                   0.002721   \n",
       "\n",
       "   lr = 0.0001, bs = 50, ts = 1, epoch = 150  \\\n",
       "0                                   0.003971   \n",
       "1                                   0.059190   \n",
       "2                                   0.020393   \n",
       "3                                   0.002262   \n",
       "4                                   0.011100   \n",
       "\n",
       "   lr = 0.0001, bs = 50, ts = 1, epoch = 200  \\\n",
       "0                                   0.008995   \n",
       "1                                   0.219389   \n",
       "2                                   0.006208   \n",
       "3                                   0.013330   \n",
       "4                                   0.008155   \n",
       "\n",
       "   lr = 0.0001, bs = 50, ts = 1, epoch = 250  \\\n",
       "0                                   0.026008   \n",
       "1                                   0.007964   \n",
       "2                                   0.001591   \n",
       "3                                   0.065597   \n",
       "4                                   0.004191   \n",
       "\n",
       "   lr = 0.0001, bs = 50, ts = 1, epoch = 300  \n",
       "0                                   0.015288  \n",
       "1                                   0.028095  \n",
       "2                                   0.009669  \n",
       "3                                   0.006641  \n",
       "4                                   0.020800  "
      ]
     },
     "execution_count": 8,
     "metadata": {},
     "output_type": "execute_result"
    }
   ],
   "source": [
    "data = pd.read_csv(\"../../data/boxplots/newton/num_epoches.csv\")\n",
    "epoch_df = pd.DataFrame(data=data)\n",
    "epoch_df.head()"
   ]
  },
  {
   "cell_type": "markdown",
   "id": "equipped-turkish",
   "metadata": {},
   "source": [
    "boxplots"
   ]
  },
  {
   "cell_type": "code",
   "execution_count": 9,
   "id": "activated-window",
   "metadata": {},
   "outputs": [
    {
     "data": {
      "image/png": "[encoded data removed]",
      "text/plain": [
       "<Figure size 252x720 with 6 Axes>"
      ]
     },
     "metadata": {
      "needs_background": "light"
     },
     "output_type": "display_data"
    }
   ],
   "source": [
    "boxplots(3, epoch_df)"
   ]
  },
  {
   "cell_type": "markdown",
   "id": "affiliated-orientation",
   "metadata": {},
   "source": [
    "averages"
   ]
  },
  {
   "cell_type": "code",
   "execution_count": 10,
   "id": "veterinary-southwest",
   "metadata": {},
   "outputs": [
    {
     "data": {
      "text/html": [
       "<div>\n",
       "<style scoped>\n",
       "    .dataframe tbody tr th:only-of-type {\n",
       "        vertical-align: middle;\n",
       "    }\n",
       "\n",
       "    .dataframe tbody tr th {\n",
       "        vertical-align: top;\n",
       "    }\n",
       "\n",
       "    .dataframe thead th {\n",
       "        text-align: right;\n",
       "    }\n",
       "</style>\n",
       "<table border=\"1\" class=\"dataframe\">\n",
       "  <thead>\n",
       "    <tr style=\"text-align: right;\">\n",
       "      <th></th>\n",
       "      <th>lr = 0.0001, bs = 50, ts = 1, epoch = 50</th>\n",
       "      <th>lr = 0.0001, bs = 50, ts = 1, epoch = 100</th>\n",
       "      <th>lr = 0.0001, bs = 50, ts = 1, epoch = 150</th>\n",
       "      <th>lr = 0.0001, bs = 50, ts = 1, epoch = 200</th>\n",
       "      <th>lr = 0.0001, bs = 50, ts = 1, epoch = 250</th>\n",
       "      <th>lr = 0.0001, bs = 50, ts = 1, epoch = 300</th>\n",
       "    </tr>\n",
       "  </thead>\n",
       "  <tbody>\n",
       "    <tr>\n",
       "      <th>Q1</th>\n",
       "      <td>0.008240</td>\n",
       "      <td>0.003887</td>\n",
       "      <td>0.003124</td>\n",
       "      <td>0.002319</td>\n",
       "      <td>0.001713</td>\n",
       "      <td>0.002648</td>\n",
       "    </tr>\n",
       "    <tr>\n",
       "      <th>Q2</th>\n",
       "      <td>0.016005</td>\n",
       "      <td>0.008418</td>\n",
       "      <td>0.005383</td>\n",
       "      <td>0.005255</td>\n",
       "      <td>0.003475</td>\n",
       "      <td>0.007789</td>\n",
       "    </tr>\n",
       "    <tr>\n",
       "      <th>Q3</th>\n",
       "      <td>0.039807</td>\n",
       "      <td>0.027358</td>\n",
       "      <td>0.019243</td>\n",
       "      <td>0.012400</td>\n",
       "      <td>0.010932</td>\n",
       "      <td>0.015340</td>\n",
       "    </tr>\n",
       "    <tr>\n",
       "      <th>Mean</th>\n",
       "      <td>0.030704</td>\n",
       "      <td>0.037284</td>\n",
       "      <td>0.035079</td>\n",
       "      <td>0.020982</td>\n",
       "      <td>0.017224</td>\n",
       "      <td>0.011764</td>\n",
       "    </tr>\n",
       "    <tr>\n",
       "      <th>Standard deviation</th>\n",
       "      <td>0.040559</td>\n",
       "      <td>0.069100</td>\n",
       "      <td>0.090750</td>\n",
       "      <td>0.044686</td>\n",
       "      <td>0.036567</td>\n",
       "      <td>0.012630</td>\n",
       "    </tr>\n",
       "  </tbody>\n",
       "</table>\n",
       "</div>"
      ],
      "text/plain": [
       "                    lr = 0.0001, bs = 50, ts = 1, epoch = 50  \\\n",
       "Q1                                                  0.008240   \n",
       "Q2                                                  0.016005   \n",
       "Q3                                                  0.039807   \n",
       "Mean                                                0.030704   \n",
       "Standard deviation                                  0.040559   \n",
       "\n",
       "                    lr = 0.0001, bs = 50, ts = 1, epoch = 100  \\\n",
       "Q1                                                   0.003887   \n",
       "Q2                                                   0.008418   \n",
       "Q3                                                   0.027358   \n",
       "Mean                                                 0.037284   \n",
       "Standard deviation                                   0.069100   \n",
       "\n",
       "                    lr = 0.0001, bs = 50, ts = 1, epoch = 150  \\\n",
       "Q1                                                   0.003124   \n",
       "Q2                                                   0.005383   \n",
       "Q3                                                   0.019243   \n",
       "Mean                                                 0.035079   \n",
       "Standard deviation                                   0.090750   \n",
       "\n",
       "                    lr = 0.0001, bs = 50, ts = 1, epoch = 200  \\\n",
       "Q1                                                   0.002319   \n",
       "Q2                                                   0.005255   \n",
       "Q3                                                   0.012400   \n",
       "Mean                                                 0.020982   \n",
       "Standard deviation                                   0.044686   \n",
       "\n",
       "                    lr = 0.0001, bs = 50, ts = 1, epoch = 250  \\\n",
       "Q1                                                   0.001713   \n",
       "Q2                                                   0.003475   \n",
       "Q3                                                   0.010932   \n",
       "Mean                                                 0.017224   \n",
       "Standard deviation                                   0.036567   \n",
       "\n",
       "                    lr = 0.0001, bs = 50, ts = 1, epoch = 300  \n",
       "Q1                                                   0.002648  \n",
       "Q2                                                   0.007789  \n",
       "Q3                                                   0.015340  \n",
       "Mean                                                 0.011764  \n",
       "Standard deviation                                   0.012630  "
      ]
     },
     "execution_count": 10,
     "metadata": {},
     "output_type": "execute_result"
    }
   ],
   "source": [
    "avg_epoch = averages(epoch_df)\n",
    "avg_epoch"
   ]
  },
  {
   "cell_type": "markdown",
   "id": "cheap-scholar",
   "metadata": {},
   "source": [
    "## Time Step"
   ]
  },
  {
   "cell_type": "markdown",
   "id": "recognized-stroke",
   "metadata": {},
   "source": [
    "dataframe"
   ]
  },
  {
   "cell_type": "code",
   "execution_count": 11,
   "id": "accessory-basic",
   "metadata": {},
   "outputs": [
    {
     "data": {
      "text/html": [
       "<div>\n",
       "<style scoped>\n",
       "    .dataframe tbody tr th:only-of-type {\n",
       "        vertical-align: middle;\n",
       "    }\n",
       "\n",
       "    .dataframe tbody tr th {\n",
       "        vertical-align: top;\n",
       "    }\n",
       "\n",
       "    .dataframe thead th {\n",
       "        text-align: right;\n",
       "    }\n",
       "</style>\n",
       "<table border=\"1\" class=\"dataframe\">\n",
       "  <thead>\n",
       "    <tr style=\"text-align: right;\">\n",
       "      <th></th>\n",
       "      <th>lr = 0.0005, bs = 15, ts = 0.1, epoch = 20</th>\n",
       "      <th>lr = 0.0005, bs = 15, ts = 0.01, epoch = 20</th>\n",
       "      <th>lr = 0.0005, bs = 15, ts = 0.001, epoch = 20</th>\n",
       "    </tr>\n",
       "  </thead>\n",
       "  <tbody>\n",
       "    <tr>\n",
       "      <th>0</th>\n",
       "      <td>0.016737</td>\n",
       "      <td>0.006425</td>\n",
       "      <td>0.001217</td>\n",
       "    </tr>\n",
       "    <tr>\n",
       "      <th>1</th>\n",
       "      <td>0.073672</td>\n",
       "      <td>0.125776</td>\n",
       "      <td>0.000605</td>\n",
       "    </tr>\n",
       "    <tr>\n",
       "      <th>2</th>\n",
       "      <td>0.021717</td>\n",
       "      <td>0.009381</td>\n",
       "      <td>0.007978</td>\n",
       "    </tr>\n",
       "    <tr>\n",
       "      <th>3</th>\n",
       "      <td>0.012121</td>\n",
       "      <td>0.033725</td>\n",
       "      <td>0.000527</td>\n",
       "    </tr>\n",
       "    <tr>\n",
       "      <th>4</th>\n",
       "      <td>0.024136</td>\n",
       "      <td>0.033091</td>\n",
       "      <td>0.000468</td>\n",
       "    </tr>\n",
       "  </tbody>\n",
       "</table>\n",
       "</div>"
      ],
      "text/plain": [
       "   lr = 0.0005, bs = 15, ts = 0.1, epoch = 20  \\\n",
       "0                                    0.016737   \n",
       "1                                    0.073672   \n",
       "2                                    0.021717   \n",
       "3                                    0.012121   \n",
       "4                                    0.024136   \n",
       "\n",
       "   lr = 0.0005, bs = 15, ts = 0.01, epoch = 20  \\\n",
       "0                                     0.006425   \n",
       "1                                     0.125776   \n",
       "2                                     0.009381   \n",
       "3                                     0.033725   \n",
       "4                                     0.033091   \n",
       "\n",
       "   lr = 0.0005, bs = 15, ts = 0.001, epoch = 20  \n",
       "0                                      0.001217  \n",
       "1                                      0.000605  \n",
       "2                                      0.007978  \n",
       "3                                      0.000527  \n",
       "4                                      0.000468  "
      ]
     },
     "execution_count": 11,
     "metadata": {},
     "output_type": "execute_result"
    }
   ],
   "source": [
    "data = pd.read_csv(\"../../data/boxplots/van/time_step.csv\")\n",
    "ts_df = pd.DataFrame(data=data)\n",
    "ts_df.head()"
   ]
  },
  {
   "cell_type": "markdown",
   "id": "sporting-toilet",
   "metadata": {},
   "source": [
    "boxpots"
   ]
  },
  {
   "cell_type": "code",
   "execution_count": 12,
   "id": "wicked-israel",
   "metadata": {},
   "outputs": [
    {
     "data": {
      "image/png": "[encoded data removed]",
      "text/plain": [
       "<Figure size 252x720 with 4 Axes>"
      ]
     },
     "metadata": {
      "needs_background": "light"
     },
     "output_type": "display_data"
    }
   ],
   "source": [
    "boxplots(2, ts_df)"
   ]
  },
  {
   "cell_type": "code",
   "execution_count": 13,
   "id": "circular-huntington",
   "metadata": {},
   "outputs": [
    {
     "data": {
      "text/html": [
       "<div>\n",
       "<style scoped>\n",
       "    .dataframe tbody tr th:only-of-type {\n",
       "        vertical-align: middle;\n",
       "    }\n",
       "\n",
       "    .dataframe tbody tr th {\n",
       "        vertical-align: top;\n",
       "    }\n",
       "\n",
       "    .dataframe thead th {\n",
       "        text-align: right;\n",
       "    }\n",
       "</style>\n",
       "<table border=\"1\" class=\"dataframe\">\n",
       "  <thead>\n",
       "    <tr style=\"text-align: right;\">\n",
       "      <th></th>\n",
       "      <th>lr = 0.0005, bs = 15, ts = 0.1, epoch = 20</th>\n",
       "      <th>lr = 0.0005, bs = 15, ts = 0.01, epoch = 20</th>\n",
       "      <th>lr = 0.0005, bs = 15, ts = 0.001, epoch = 20</th>\n",
       "    </tr>\n",
       "  </thead>\n",
       "  <tbody>\n",
       "    <tr>\n",
       "      <th>Q1</th>\n",
       "      <td>0.013118</td>\n",
       "      <td>0.002216</td>\n",
       "      <td>0.000345</td>\n",
       "    </tr>\n",
       "    <tr>\n",
       "      <th>Q2</th>\n",
       "      <td>0.027918</td>\n",
       "      <td>0.006026</td>\n",
       "      <td>0.000524</td>\n",
       "    </tr>\n",
       "    <tr>\n",
       "      <th>Q3</th>\n",
       "      <td>0.046426</td>\n",
       "      <td>0.015691</td>\n",
       "      <td>0.001279</td>\n",
       "    </tr>\n",
       "    <tr>\n",
       "      <th>Mean</th>\n",
       "      <td>0.037814</td>\n",
       "      <td>0.015740</td>\n",
       "      <td>0.001061</td>\n",
       "    </tr>\n",
       "    <tr>\n",
       "      <th>Standard deviation</th>\n",
       "      <td>0.031773</td>\n",
       "      <td>0.026205</td>\n",
       "      <td>0.001479</td>\n",
       "    </tr>\n",
       "  </tbody>\n",
       "</table>\n",
       "</div>"
      ],
      "text/plain": [
       "                    lr = 0.0005, bs = 15, ts = 0.1, epoch = 20  \\\n",
       "Q1                                                    0.013118   \n",
       "Q2                                                    0.027918   \n",
       "Q3                                                    0.046426   \n",
       "Mean                                                  0.037814   \n",
       "Standard deviation                                    0.031773   \n",
       "\n",
       "                    lr = 0.0005, bs = 15, ts = 0.01, epoch = 20  \\\n",
       "Q1                                                     0.002216   \n",
       "Q2                                                     0.006026   \n",
       "Q3                                                     0.015691   \n",
       "Mean                                                   0.015740   \n",
       "Standard deviation                                     0.026205   \n",
       "\n",
       "                    lr = 0.0005, bs = 15, ts = 0.001, epoch = 20  \n",
       "Q1                                                      0.000345  \n",
       "Q2                                                      0.000524  \n",
       "Q3                                                      0.001279  \n",
       "Mean                                                    0.001061  \n",
       "Standard deviation                                      0.001479  "
      ]
     },
     "execution_count": 13,
     "metadata": {},
     "output_type": "execute_result"
    }
   ],
   "source": [
    "avg_ts = averages(ts_df)\n",
    "avg_ts"
   ]
  },
  {
   "cell_type": "markdown",
   "id": "superb-broadcasting",
   "metadata": {},
   "source": [
    "## Custome"
   ]
  },
  {
   "cell_type": "markdown",
   "id": "primary-dispatch",
   "metadata": {},
   "source": [
    "dataframe"
   ]
  },
  {
   "cell_type": "code",
   "execution_count": 15,
   "id": "external-africa",
   "metadata": {},
   "outputs": [
    {
     "data": {
      "text/html": [
       "<div>\n",
       "<style scoped>\n",
       "    .dataframe tbody tr th:only-of-type {\n",
       "        vertical-align: middle;\n",
       "    }\n",
       "\n",
       "    .dataframe tbody tr th {\n",
       "        vertical-align: top;\n",
       "    }\n",
       "\n",
       "    .dataframe thead th {\n",
       "        text-align: right;\n",
       "    }\n",
       "</style>\n",
       "<table border=\"1\" class=\"dataframe\">\n",
       "  <thead>\n",
       "    <tr style=\"text-align: right;\">\n",
       "      <th></th>\n",
       "      <th>lr = 1e-07, bs = 15, ts = 15, epoch = 50</th>\n",
       "      <th>lr = 0.0001, bs = 15, ts = 15, epoch = 50</th>\n",
       "      <th>lr = 1e-07, bs = 15, ts = 15, epoch = 100</th>\n",
       "    </tr>\n",
       "  </thead>\n",
       "  <tbody>\n",
       "    <tr>\n",
       "      <th>0</th>\n",
       "      <td>1.961955</td>\n",
       "      <td>0.001885</td>\n",
       "      <td>1.254577</td>\n",
       "    </tr>\n",
       "    <tr>\n",
       "      <th>1</th>\n",
       "      <td>1.570533</td>\n",
       "      <td>0.000179</td>\n",
       "      <td>1.382432</td>\n",
       "    </tr>\n",
       "    <tr>\n",
       "      <th>2</th>\n",
       "      <td>1.515773</td>\n",
       "      <td>0.000122</td>\n",
       "      <td>1.926336</td>\n",
       "    </tr>\n",
       "    <tr>\n",
       "      <th>3</th>\n",
       "      <td>1.286737</td>\n",
       "      <td>0.000067</td>\n",
       "      <td>1.582476</td>\n",
       "    </tr>\n",
       "    <tr>\n",
       "      <th>4</th>\n",
       "      <td>1.233441</td>\n",
       "      <td>0.000151</td>\n",
       "      <td>1.722186</td>\n",
       "    </tr>\n",
       "  </tbody>\n",
       "</table>\n",
       "</div>"
      ],
      "text/plain": [
       "   lr = 1e-07, bs = 15, ts = 15, epoch = 50  \\\n",
       "0                                  1.961955   \n",
       "1                                  1.570533   \n",
       "2                                  1.515773   \n",
       "3                                  1.286737   \n",
       "4                                  1.233441   \n",
       "\n",
       "   lr = 0.0001, bs = 15, ts = 15, epoch = 50  \\\n",
       "0                                   0.001885   \n",
       "1                                   0.000179   \n",
       "2                                   0.000122   \n",
       "3                                   0.000067   \n",
       "4                                   0.000151   \n",
       "\n",
       "   lr = 1e-07, bs = 15, ts = 15, epoch = 100  \n",
       "0                                   1.254577  \n",
       "1                                   1.382432  \n",
       "2                                   1.926336  \n",
       "3                                   1.582476  \n",
       "4                                   1.722186  "
      ]
     },
     "execution_count": 15,
     "metadata": {},
     "output_type": "execute_result"
    }
   ],
   "source": [
    "data = pd.read_csv(\"../../data/boxplots/van/custome.csv\")\n",
    "custome_df = pd.DataFrame(data=data)\n",
    "custome_df.head()"
   ]
  },
  {
   "cell_type": "markdown",
   "id": "micro-astrology",
   "metadata": {},
   "source": [
    "boxplots"
   ]
  },
  {
   "cell_type": "code",
   "execution_count": 16,
   "id": "changed-smile",
   "metadata": {},
   "outputs": [
    {
     "data": {
      "image/png": "[encoded data removed]",
      "text/plain": [
       "<Figure size 252x720 with 4 Axes>"
      ]
     },
     "metadata": {
      "needs_background": "light"
     },
     "output_type": "display_data"
    }
   ],
   "source": [
    "boxplots(2, custome_df)"
   ]
  },
  {
   "cell_type": "markdown",
   "id": "african-palestine",
   "metadata": {},
   "source": [
    "average"
   ]
  },
  {
   "cell_type": "code",
   "execution_count": 17,
   "id": "adolescent-proof",
   "metadata": {},
   "outputs": [
    {
     "data": {
      "text/html": [
       "<div>\n",
       "<style scoped>\n",
       "    .dataframe tbody tr th:only-of-type {\n",
       "        vertical-align: middle;\n",
       "    }\n",
       "\n",
       "    .dataframe tbody tr th {\n",
       "        vertical-align: top;\n",
       "    }\n",
       "\n",
       "    .dataframe thead th {\n",
       "        text-align: right;\n",
       "    }\n",
       "</style>\n",
       "<table border=\"1\" class=\"dataframe\">\n",
       "  <thead>\n",
       "    <tr style=\"text-align: right;\">\n",
       "      <th></th>\n",
       "      <th>lr = 1e-07, bs = 15, ts = 15, epoch = 50</th>\n",
       "      <th>lr = 0.0001, bs = 15, ts = 15, epoch = 50</th>\n",
       "      <th>lr = 1e-07, bs = 15, ts = 15, epoch = 100</th>\n",
       "    </tr>\n",
       "  </thead>\n",
       "  <tbody>\n",
       "    <tr>\n",
       "      <th>Q1</th>\n",
       "      <td>1.305451</td>\n",
       "      <td>0.000097</td>\n",
       "      <td>1.228008</td>\n",
       "    </tr>\n",
       "    <tr>\n",
       "      <th>Q2</th>\n",
       "      <td>1.519619</td>\n",
       "      <td>0.000151</td>\n",
       "      <td>1.369019</td>\n",
       "    </tr>\n",
       "    <tr>\n",
       "      <th>Q3</th>\n",
       "      <td>1.727156</td>\n",
       "      <td>0.000278</td>\n",
       "      <td>1.463845</td>\n",
       "    </tr>\n",
       "    <tr>\n",
       "      <th>Mean</th>\n",
       "      <td>1.510651</td>\n",
       "      <td>0.000603</td>\n",
       "      <td>1.359553</td>\n",
       "    </tr>\n",
       "    <tr>\n",
       "      <th>Standard deviation</th>\n",
       "      <td>0.269944</td>\n",
       "      <td>0.001775</td>\n",
       "      <td>0.273156</td>\n",
       "    </tr>\n",
       "  </tbody>\n",
       "</table>\n",
       "</div>"
      ],
      "text/plain": [
       "                    lr = 1e-07, bs = 15, ts = 15, epoch = 50  \\\n",
       "Q1                                                  1.305451   \n",
       "Q2                                                  1.519619   \n",
       "Q3                                                  1.727156   \n",
       "Mean                                                1.510651   \n",
       "Standard deviation                                  0.269944   \n",
       "\n",
       "                    lr = 0.0001, bs = 15, ts = 15, epoch = 50  \\\n",
       "Q1                                                   0.000097   \n",
       "Q2                                                   0.000151   \n",
       "Q3                                                   0.000278   \n",
       "Mean                                                 0.000603   \n",
       "Standard deviation                                   0.001775   \n",
       "\n",
       "                    lr = 1e-07, bs = 15, ts = 15, epoch = 100  \n",
       "Q1                                                   1.228008  \n",
       "Q2                                                   1.369019  \n",
       "Q3                                                   1.463845  \n",
       "Mean                                                 1.359553  \n",
       "Standard deviation                                   0.273156  "
      ]
     },
     "execution_count": 17,
     "metadata": {},
     "output_type": "execute_result"
    }
   ],
   "source": [
    "avg_custome = averages(custome_df)\n",
    "avg_custome"
   ]
  },
  {
   "cell_type": "code",
   "execution_count": null,
   "id": "incoming-hamilton",
   "metadata": {},
   "outputs": [],
   "source": []
  }
 ],
 "metadata": {
  "kernelspec": {
   "display_name": "Python 3",
   "language": "python",
   "name": "python3"
  },
  "language_info": {
   "codemirror_mode": {
    "name": "ipython",
    "version": 3
   },
   "file_extension": ".py",
   "mimetype": "text/x-python",
   "name": "python",
   "nbconvert_exporter": "python",
   "pygments_lexer": "ipython3",
   "version": "3.8.1"
  }
 },
 "nbformat": 4,
 "nbformat_minor": 5
}
