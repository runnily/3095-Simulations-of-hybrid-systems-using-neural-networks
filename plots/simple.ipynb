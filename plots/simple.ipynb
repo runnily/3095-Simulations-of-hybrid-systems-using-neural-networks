{
 "cells": [
  {
   "cell_type": "markdown",
   "id": "powered-friendly",
   "metadata": {},
   "source": [
    "# Contents\n",
    "\n",
    "<ul>\n",
    "    \n",
    "<li>x'= 0\n",
    "    <ol>\n",
    "        <li> Dataframes </li>\n",
    "        <li> Visualising the Data </li>\n",
    "    </ol>\n",
    "</li>\n",
    "  \n",
    "<li>x' = 1 , y' = 2\n",
    "    <ol>\n",
    "        <li> Dataframes </li>\n",
    "            <ul>\n",
    "                <li> x' = 1 </li>\n",
    "                <li> y' = 2 </li>\n",
    "                <li> x' = 1 y' = 2 </li>\n",
    "            </ul>\n",
    "        <li> Visualising the Data </li>\n",
    "            <ul>\n",
    "                <li> x' = 1 </li>\n",
    "                <li> y' = 2 </li>\n",
    "                <li> x' = 1 y' = 2 </li>\n",
    "            </ul>\n",
    "    </ol>\n",
    "</li>\n"
   ]
  },
  {
   "cell_type": "markdown",
   "id": "linear-declaration",
   "metadata": {},
   "source": [
    "This notebook start with simple models. This notebook illustrates graphs of the actual data from differential equation in their models, along with the predictions made by the neural network. The aim of this notebook is to compare the differences between the actual simulations and the simulations produced by the neural network"
   ]
  },
  {
   "cell_type": "code",
   "execution_count": 10,
   "id": "sweet-wealth",
   "metadata": {},
   "outputs": [],
   "source": [
    "import seaborn as sns\n",
    "import matplotlib.pyplot as plt\n",
    "import pandas as pd\n",
    "# import sys\n",
    "# sys.path.insert(1, '../')\n",
    "# import prototype as p\n",
    "# from prototype import pd"
   ]
  },
  {
   "cell_type": "markdown",
   "id": "great-patrick",
   "metadata": {},
   "source": [
    "# x' = 0"
   ]
  },
  {
   "cell_type": "markdown",
   "id": "friendly-valentine",
   "metadata": {},
   "source": [
    "This is out first simple model which we will be using"
   ]
  },
  {
   "cell_type": "markdown",
   "id": "female-newcastle",
   "metadata": {},
   "source": [
    "## Dataframes"
   ]
  },
  {
   "cell_type": "markdown",
   "id": "molecular-terry",
   "metadata": {},
   "source": [
    "These will read the csv file containing the inputs and outputs of this differential equation"
   ]
  },
  {
   "cell_type": "code",
   "execution_count": 2,
   "id": "fifteen-massachusetts",
   "metadata": {},
   "outputs": [
    {
     "data": {
      "text/html": [
       "<div>\n",
       "<style scoped>\n",
       "    .dataframe tbody tr th:only-of-type {\n",
       "        vertical-align: middle;\n",
       "    }\n",
       "\n",
       "    .dataframe tbody tr th {\n",
       "        vertical-align: top;\n",
       "    }\n",
       "\n",
       "    .dataframe thead th {\n",
       "        text-align: right;\n",
       "    }\n",
       "</style>\n",
       "<table border=\"1\" class=\"dataframe\">\n",
       "  <thead>\n",
       "    <tr style=\"text-align: right;\">\n",
       "      <th></th>\n",
       "      <th>x</th>\n",
       "      <th>y</th>\n",
       "    </tr>\n",
       "  </thead>\n",
       "  <tbody>\n",
       "    <tr>\n",
       "      <th>0</th>\n",
       "      <td>0</td>\n",
       "      <td>1</td>\n",
       "    </tr>\n",
       "    <tr>\n",
       "      <th>1</th>\n",
       "      <td>1</td>\n",
       "      <td>1</td>\n",
       "    </tr>\n",
       "    <tr>\n",
       "      <th>2</th>\n",
       "      <td>2</td>\n",
       "      <td>1</td>\n",
       "    </tr>\n",
       "    <tr>\n",
       "      <th>3</th>\n",
       "      <td>3</td>\n",
       "      <td>1</td>\n",
       "    </tr>\n",
       "    <tr>\n",
       "      <th>4</th>\n",
       "      <td>4</td>\n",
       "      <td>1</td>\n",
       "    </tr>\n",
       "    <tr>\n",
       "      <th>...</th>\n",
       "      <td>...</td>\n",
       "      <td>...</td>\n",
       "    </tr>\n",
       "    <tr>\n",
       "      <th>995</th>\n",
       "      <td>995</td>\n",
       "      <td>1</td>\n",
       "    </tr>\n",
       "    <tr>\n",
       "      <th>996</th>\n",
       "      <td>996</td>\n",
       "      <td>1</td>\n",
       "    </tr>\n",
       "    <tr>\n",
       "      <th>997</th>\n",
       "      <td>997</td>\n",
       "      <td>1</td>\n",
       "    </tr>\n",
       "    <tr>\n",
       "      <th>998</th>\n",
       "      <td>998</td>\n",
       "      <td>1</td>\n",
       "    </tr>\n",
       "    <tr>\n",
       "      <th>999</th>\n",
       "      <td>999</td>\n",
       "      <td>1</td>\n",
       "    </tr>\n",
       "  </tbody>\n",
       "</table>\n",
       "<p>1000 rows × 2 columns</p>\n",
       "</div>"
      ],
      "text/plain": [
       "       x  y\n",
       "0      0  1\n",
       "1      1  1\n",
       "2      2  1\n",
       "3      3  1\n",
       "4      4  1\n",
       "..   ... ..\n",
       "995  995  1\n",
       "996  996  1\n",
       "997  997  1\n",
       "998  998  1\n",
       "999  999  1\n",
       "\n",
       "[1000 rows x 2 columns]"
      ]
     },
     "execution_count": 2,
     "metadata": {},
     "output_type": "execute_result"
    }
   ],
   "source": [
    "data = pd.read_csv(\"../data/train/simple_model_x0.csv\", usecols=[0,1])\n",
    "simple_model_df = pd.DataFrame(data=data)\n",
    "simple_model_df"
   ]
  },
  {
   "cell_type": "markdown",
   "id": "suspected-behavior",
   "metadata": {},
   "source": [
    "This following code is used to get the predictions of the output (y) of the differential equation given by the neural network"
   ]
  },
  {
   "cell_type": "code",
   "execution_count": 3,
   "id": "selective-buddy",
   "metadata": {},
   "outputs": [
    {
     "data": {
      "text/html": [
       "<div>\n",
       "<style scoped>\n",
       "    .dataframe tbody tr th:only-of-type {\n",
       "        vertical-align: middle;\n",
       "    }\n",
       "\n",
       "    .dataframe tbody tr th {\n",
       "        vertical-align: top;\n",
       "    }\n",
       "\n",
       "    .dataframe thead th {\n",
       "        text-align: right;\n",
       "    }\n",
       "</style>\n",
       "<table border=\"1\" class=\"dataframe\">\n",
       "  <thead>\n",
       "    <tr style=\"text-align: right;\">\n",
       "      <th></th>\n",
       "      <th>x</th>\n",
       "      <th>y</th>\n",
       "    </tr>\n",
       "  </thead>\n",
       "  <tbody>\n",
       "    <tr>\n",
       "      <th>0</th>\n",
       "      <td>0.0</td>\n",
       "      <td>1.000000</td>\n",
       "    </tr>\n",
       "    <tr>\n",
       "      <th>1</th>\n",
       "      <td>1.0</td>\n",
       "      <td>1.000000</td>\n",
       "    </tr>\n",
       "    <tr>\n",
       "      <th>2</th>\n",
       "      <td>2.0</td>\n",
       "      <td>1.000000</td>\n",
       "    </tr>\n",
       "    <tr>\n",
       "      <th>3</th>\n",
       "      <td>3.0</td>\n",
       "      <td>1.000000</td>\n",
       "    </tr>\n",
       "    <tr>\n",
       "      <th>4</th>\n",
       "      <td>4.0</td>\n",
       "      <td>1.000000</td>\n",
       "    </tr>\n",
       "    <tr>\n",
       "      <th>...</th>\n",
       "      <td>...</td>\n",
       "      <td>...</td>\n",
       "    </tr>\n",
       "    <tr>\n",
       "      <th>995</th>\n",
       "      <td>995.0</td>\n",
       "      <td>1.000000</td>\n",
       "    </tr>\n",
       "    <tr>\n",
       "      <th>996</th>\n",
       "      <td>996.0</td>\n",
       "      <td>1.000000</td>\n",
       "    </tr>\n",
       "    <tr>\n",
       "      <th>997</th>\n",
       "      <td>997.0</td>\n",
       "      <td>1.000000</td>\n",
       "    </tr>\n",
       "    <tr>\n",
       "      <th>998</th>\n",
       "      <td>998.0</td>\n",
       "      <td>1.000000</td>\n",
       "    </tr>\n",
       "    <tr>\n",
       "      <th>999</th>\n",
       "      <td>999.0</td>\n",
       "      <td>1.000005</td>\n",
       "    </tr>\n",
       "  </tbody>\n",
       "</table>\n",
       "<p>1000 rows × 2 columns</p>\n",
       "</div>"
      ],
      "text/plain": [
       "         x         y\n",
       "0      0.0  1.000000\n",
       "1      1.0  1.000000\n",
       "2      2.0  1.000000\n",
       "3      3.0  1.000000\n",
       "4      4.0  1.000000\n",
       "..     ...       ...\n",
       "995  995.0  1.000000\n",
       "996  996.0  1.000000\n",
       "997  997.0  1.000000\n",
       "998  998.0  1.000000\n",
       "999  999.0  1.000005\n",
       "\n",
       "[1000 rows x 2 columns]"
      ]
     },
     "execution_count": 3,
     "metadata": {},
     "output_type": "execute_result"
    }
   ],
   "source": [
    "data = pd.read_csv(\"../data/preds/train/simple_model_x0.csv\", usecols=[0,1])\n",
    "simple_model_df_preds = pd.DataFrame(data=data)\n",
    "simple_model_df_preds"
   ]
  },
  {
   "cell_type": "markdown",
   "id": "administrative-minority",
   "metadata": {},
   "source": [
    "## Visualising the Data"
   ]
  },
  {
   "cell_type": "code",
   "execution_count": 4,
   "id": "urban-remark",
   "metadata": {},
   "outputs": [
    {
     "data": {
      "text/plain": [
       "[(0.99975, 1.0001), (0.0, 1000.0)]"
      ]
     },
     "execution_count": 4,
     "metadata": {},
     "output_type": "execute_result"
    },
    {
     "data": {
      "image/png": "[encoded data removed]",
      "text/plain": [
       "<Figure size 1440x360 with 3 Axes>"
      ]
     },
     "metadata": {
      "needs_background": "light"
     },
     "output_type": "display_data"
    }
   ],
   "source": [
    "fig, axs = plt.subplots(ncols=3, figsize=(20,5)) # Makes the figure\n",
    "\n",
    "# The for loop below is used to plot the two datasets (predictions and the actual data to the graph)\n",
    "for key, df in {'preds' : simple_model_df_preds, 'data' : simple_model_df}.items():\n",
    "    x = df[\"x\"].to_numpy()\n",
    "    y = df[\"y\"].to_numpy()\n",
    "    axs[1].plot(x, y, label=key)\n",
    "    axs[1].set_ylim([0.99975, 1.00015])\n",
    "axs[1].legend()\n",
    "axs[1].set_xlabel(\"x\")\n",
    "axs[1].set_ylabel(\"y\")\n",
    "\n",
    "# This is used to see the plots by themeselves.\n",
    "sns.regplot(data=simple_model_df, x=\"x\", y=\"y\", ax=axs[0]).set(ylim=(0.99975, 1.0001), xlim=(0,1000))\n",
    "sns.regplot(data=simple_model_df_preds, x=\"x\", y=\"y\", ax=axs[2]).set(ylim=(0.99975, 1.0001), xlim=(0,1000))"
   ]
  },
  {
   "cell_type": "markdown",
   "id": "reduced-islam",
   "metadata": {},
   "source": [
    "# x' = 1 , y' = 2"
   ]
  },
  {
   "cell_type": "markdown",
   "id": "automated-peter",
   "metadata": {},
   "source": [
    "This is the second model. This is a very simple model to do"
   ]
  },
  {
   "cell_type": "markdown",
   "id": "functional-times",
   "metadata": {},
   "source": [
    "## Dataframes"
   ]
  },
  {
   "cell_type": "markdown",
   "id": "popular-garage",
   "metadata": {},
   "source": [
    "### - x' =1"
   ]
  },
  {
   "cell_type": "code",
   "execution_count": 5,
   "id": "medieval-constant",
   "metadata": {},
   "outputs": [
    {
     "data": {
      "text/html": [
       "<div>\n",
       "<style scoped>\n",
       "    .dataframe tbody tr th:only-of-type {\n",
       "        vertical-align: middle;\n",
       "    }\n",
       "\n",
       "    .dataframe tbody tr th {\n",
       "        vertical-align: top;\n",
       "    }\n",
       "\n",
       "    .dataframe thead th {\n",
       "        text-align: right;\n",
       "    }\n",
       "</style>\n",
       "<table border=\"1\" class=\"dataframe\">\n",
       "  <thead>\n",
       "    <tr style=\"text-align: right;\">\n",
       "      <th></th>\n",
       "      <th>x</th>\n",
       "      <th>y</th>\n",
       "    </tr>\n",
       "  </thead>\n",
       "  <tbody>\n",
       "    <tr>\n",
       "      <th>0</th>\n",
       "      <td>0</td>\n",
       "      <td>0</td>\n",
       "    </tr>\n",
       "    <tr>\n",
       "      <th>1</th>\n",
       "      <td>1</td>\n",
       "      <td>1</td>\n",
       "    </tr>\n",
       "    <tr>\n",
       "      <th>2</th>\n",
       "      <td>2</td>\n",
       "      <td>2</td>\n",
       "    </tr>\n",
       "    <tr>\n",
       "      <th>3</th>\n",
       "      <td>3</td>\n",
       "      <td>3</td>\n",
       "    </tr>\n",
       "    <tr>\n",
       "      <th>4</th>\n",
       "      <td>4</td>\n",
       "      <td>4</td>\n",
       "    </tr>\n",
       "    <tr>\n",
       "      <th>...</th>\n",
       "      <td>...</td>\n",
       "      <td>...</td>\n",
       "    </tr>\n",
       "    <tr>\n",
       "      <th>1995</th>\n",
       "      <td>1995</td>\n",
       "      <td>1995</td>\n",
       "    </tr>\n",
       "    <tr>\n",
       "      <th>1996</th>\n",
       "      <td>1996</td>\n",
       "      <td>1996</td>\n",
       "    </tr>\n",
       "    <tr>\n",
       "      <th>1997</th>\n",
       "      <td>1997</td>\n",
       "      <td>1997</td>\n",
       "    </tr>\n",
       "    <tr>\n",
       "      <th>1998</th>\n",
       "      <td>1998</td>\n",
       "      <td>1998</td>\n",
       "    </tr>\n",
       "    <tr>\n",
       "      <th>1999</th>\n",
       "      <td>1999</td>\n",
       "      <td>1999</td>\n",
       "    </tr>\n",
       "  </tbody>\n",
       "</table>\n",
       "<p>2000 rows × 2 columns</p>\n",
       "</div>"
      ],
      "text/plain": [
       "         x     y\n",
       "0        0     0\n",
       "1        1     1\n",
       "2        2     2\n",
       "3        3     3\n",
       "4        4     4\n",
       "...    ...   ...\n",
       "1995  1995  1995\n",
       "1996  1996  1996\n",
       "1997  1997  1997\n",
       "1998  1998  1998\n",
       "1999  1999  1999\n",
       "\n",
       "[2000 rows x 2 columns]"
      ]
     },
     "execution_count": 5,
     "metadata": {},
     "output_type": "execute_result"
    }
   ],
   "source": [
    "simple_model_x1_df = pd.DataFrame(data = pd.read_csv(\"../data/train/simple_model_x1.csv\", usecols=[0,1]))\n",
    "simple_model_x1_df"
   ]
  },
  {
   "cell_type": "code",
   "execution_count": 6,
   "id": "local-saturday",
   "metadata": {},
   "outputs": [
    {
     "data": {
      "text/html": [
       "<div>\n",
       "<style scoped>\n",
       "    .dataframe tbody tr th:only-of-type {\n",
       "        vertical-align: middle;\n",
       "    }\n",
       "\n",
       "    .dataframe tbody tr th {\n",
       "        vertical-align: top;\n",
       "    }\n",
       "\n",
       "    .dataframe thead th {\n",
       "        text-align: right;\n",
       "    }\n",
       "</style>\n",
       "<table border=\"1\" class=\"dataframe\">\n",
       "  <thead>\n",
       "    <tr style=\"text-align: right;\">\n",
       "      <th></th>\n",
       "      <th>x</th>\n",
       "      <th>y</th>\n",
       "    </tr>\n",
       "  </thead>\n",
       "  <tbody>\n",
       "    <tr>\n",
       "      <th>0</th>\n",
       "      <td>0.0</td>\n",
       "      <td>0.000517</td>\n",
       "    </tr>\n",
       "    <tr>\n",
       "      <th>1</th>\n",
       "      <td>1.0</td>\n",
       "      <td>1.000107</td>\n",
       "    </tr>\n",
       "    <tr>\n",
       "      <th>2</th>\n",
       "      <td>2.0</td>\n",
       "      <td>2.000069</td>\n",
       "    </tr>\n",
       "    <tr>\n",
       "      <th>3</th>\n",
       "      <td>3.0</td>\n",
       "      <td>3.000051</td>\n",
       "    </tr>\n",
       "    <tr>\n",
       "      <th>4</th>\n",
       "      <td>4.0</td>\n",
       "      <td>4.000047</td>\n",
       "    </tr>\n",
       "    <tr>\n",
       "      <th>...</th>\n",
       "      <td>...</td>\n",
       "      <td>...</td>\n",
       "    </tr>\n",
       "    <tr>\n",
       "      <th>1995</th>\n",
       "      <td>1995.0</td>\n",
       "      <td>1995.000400</td>\n",
       "    </tr>\n",
       "    <tr>\n",
       "      <th>1996</th>\n",
       "      <td>1996.0</td>\n",
       "      <td>1996.000500</td>\n",
       "    </tr>\n",
       "    <tr>\n",
       "      <th>1997</th>\n",
       "      <td>1997.0</td>\n",
       "      <td>1997.000500</td>\n",
       "    </tr>\n",
       "    <tr>\n",
       "      <th>1998</th>\n",
       "      <td>1998.0</td>\n",
       "      <td>1998.000600</td>\n",
       "    </tr>\n",
       "    <tr>\n",
       "      <th>1999</th>\n",
       "      <td>1999.0</td>\n",
       "      <td>1999.000400</td>\n",
       "    </tr>\n",
       "  </tbody>\n",
       "</table>\n",
       "<p>2000 rows × 2 columns</p>\n",
       "</div>"
      ],
      "text/plain": [
       "           x            y\n",
       "0        0.0     0.000517\n",
       "1        1.0     1.000107\n",
       "2        2.0     2.000069\n",
       "3        3.0     3.000051\n",
       "4        4.0     4.000047\n",
       "...      ...          ...\n",
       "1995  1995.0  1995.000400\n",
       "1996  1996.0  1996.000500\n",
       "1997  1997.0  1997.000500\n",
       "1998  1998.0  1998.000600\n",
       "1999  1999.0  1999.000400\n",
       "\n",
       "[2000 rows x 2 columns]"
      ]
     },
     "execution_count": 6,
     "metadata": {},
     "output_type": "execute_result"
    }
   ],
   "source": [
    "simple_model_x1_df_preds = pd.DataFrame(data = pd.read_csv(\"../data/preds/train/simple_model_x1.csv\", usecols=[0,1]))\n",
    "simple_model_x1_df_preds"
   ]
  },
  {
   "cell_type": "markdown",
   "id": "premier-beginning",
   "metadata": {},
   "source": [
    "### - y'  = 2"
   ]
  },
  {
   "cell_type": "code",
   "execution_count": 7,
   "id": "turned-smoke",
   "metadata": {},
   "outputs": [
    {
     "data": {
      "text/html": [
       "<div>\n",
       "<style scoped>\n",
       "    .dataframe tbody tr th:only-of-type {\n",
       "        vertical-align: middle;\n",
       "    }\n",
       "\n",
       "    .dataframe tbody tr th {\n",
       "        vertical-align: top;\n",
       "    }\n",
       "\n",
       "    .dataframe thead th {\n",
       "        text-align: right;\n",
       "    }\n",
       "</style>\n",
       "<table border=\"1\" class=\"dataframe\">\n",
       "  <thead>\n",
       "    <tr style=\"text-align: right;\">\n",
       "      <th></th>\n",
       "      <th>x</th>\n",
       "      <th>y</th>\n",
       "    </tr>\n",
       "  </thead>\n",
       "  <tbody>\n",
       "    <tr>\n",
       "      <th>0</th>\n",
       "      <td>0</td>\n",
       "      <td>0</td>\n",
       "    </tr>\n",
       "    <tr>\n",
       "      <th>1</th>\n",
       "      <td>1</td>\n",
       "      <td>2</td>\n",
       "    </tr>\n",
       "    <tr>\n",
       "      <th>2</th>\n",
       "      <td>2</td>\n",
       "      <td>4</td>\n",
       "    </tr>\n",
       "    <tr>\n",
       "      <th>3</th>\n",
       "      <td>3</td>\n",
       "      <td>6</td>\n",
       "    </tr>\n",
       "    <tr>\n",
       "      <th>4</th>\n",
       "      <td>4</td>\n",
       "      <td>8</td>\n",
       "    </tr>\n",
       "    <tr>\n",
       "      <th>...</th>\n",
       "      <td>...</td>\n",
       "      <td>...</td>\n",
       "    </tr>\n",
       "    <tr>\n",
       "      <th>1995</th>\n",
       "      <td>1995</td>\n",
       "      <td>3990</td>\n",
       "    </tr>\n",
       "    <tr>\n",
       "      <th>1996</th>\n",
       "      <td>1996</td>\n",
       "      <td>3992</td>\n",
       "    </tr>\n",
       "    <tr>\n",
       "      <th>1997</th>\n",
       "      <td>1997</td>\n",
       "      <td>3994</td>\n",
       "    </tr>\n",
       "    <tr>\n",
       "      <th>1998</th>\n",
       "      <td>1998</td>\n",
       "      <td>3996</td>\n",
       "    </tr>\n",
       "    <tr>\n",
       "      <th>1999</th>\n",
       "      <td>1999</td>\n",
       "      <td>3998</td>\n",
       "    </tr>\n",
       "  </tbody>\n",
       "</table>\n",
       "<p>2000 rows × 2 columns</p>\n",
       "</div>"
      ],
      "text/plain": [
       "         x     y\n",
       "0        0     0\n",
       "1        1     2\n",
       "2        2     4\n",
       "3        3     6\n",
       "4        4     8\n",
       "...    ...   ...\n",
       "1995  1995  3990\n",
       "1996  1996  3992\n",
       "1997  1997  3994\n",
       "1998  1998  3996\n",
       "1999  1999  3998\n",
       "\n",
       "[2000 rows x 2 columns]"
      ]
     },
     "execution_count": 7,
     "metadata": {},
     "output_type": "execute_result"
    }
   ],
   "source": [
    "simple_model_y2_df = pd.DataFrame(data = pd.read_csv(\"../data/train/simple_model_y2.csv\", usecols=[0,1]))\n",
    "simple_model_y2_df"
   ]
  },
  {
   "cell_type": "code",
   "execution_count": 12,
   "id": "radio-cooking",
   "metadata": {},
   "outputs": [
    {
     "data": {
      "text/html": [
       "<div>\n",
       "<style scoped>\n",
       "    .dataframe tbody tr th:only-of-type {\n",
       "        vertical-align: middle;\n",
       "    }\n",
       "\n",
       "    .dataframe tbody tr th {\n",
       "        vertical-align: top;\n",
       "    }\n",
       "\n",
       "    .dataframe thead th {\n",
       "        text-align: right;\n",
       "    }\n",
       "</style>\n",
       "<table border=\"1\" class=\"dataframe\">\n",
       "  <thead>\n",
       "    <tr style=\"text-align: right;\">\n",
       "      <th></th>\n",
       "      <th>x</th>\n",
       "      <th>y</th>\n",
       "    </tr>\n",
       "  </thead>\n",
       "  <tbody>\n",
       "    <tr>\n",
       "      <th>0</th>\n",
       "      <td>0.0</td>\n",
       "      <td>0.000515</td>\n",
       "    </tr>\n",
       "    <tr>\n",
       "      <th>1</th>\n",
       "      <td>1.0</td>\n",
       "      <td>1.970636</td>\n",
       "    </tr>\n",
       "    <tr>\n",
       "      <th>2</th>\n",
       "      <td>2.0</td>\n",
       "      <td>3.999738</td>\n",
       "    </tr>\n",
       "    <tr>\n",
       "      <th>3</th>\n",
       "      <td>3.0</td>\n",
       "      <td>6.006743</td>\n",
       "    </tr>\n",
       "    <tr>\n",
       "      <th>4</th>\n",
       "      <td>4.0</td>\n",
       "      <td>8.015183</td>\n",
       "    </tr>\n",
       "    <tr>\n",
       "      <th>...</th>\n",
       "      <td>...</td>\n",
       "      <td>...</td>\n",
       "    </tr>\n",
       "    <tr>\n",
       "      <th>1995</th>\n",
       "      <td>1995.0</td>\n",
       "      <td>3989.999800</td>\n",
       "    </tr>\n",
       "    <tr>\n",
       "      <th>1996</th>\n",
       "      <td>1996.0</td>\n",
       "      <td>3991.999500</td>\n",
       "    </tr>\n",
       "    <tr>\n",
       "      <th>1997</th>\n",
       "      <td>1997.0</td>\n",
       "      <td>3993.999500</td>\n",
       "    </tr>\n",
       "    <tr>\n",
       "      <th>1998</th>\n",
       "      <td>1998.0</td>\n",
       "      <td>3995.999500</td>\n",
       "    </tr>\n",
       "    <tr>\n",
       "      <th>1999</th>\n",
       "      <td>1999.0</td>\n",
       "      <td>3997.999500</td>\n",
       "    </tr>\n",
       "  </tbody>\n",
       "</table>\n",
       "<p>2000 rows × 2 columns</p>\n",
       "</div>"
      ],
      "text/plain": [
       "           x            y\n",
       "0        0.0     0.000515\n",
       "1        1.0     1.970636\n",
       "2        2.0     3.999738\n",
       "3        3.0     6.006743\n",
       "4        4.0     8.015183\n",
       "...      ...          ...\n",
       "1995  1995.0  3989.999800\n",
       "1996  1996.0  3991.999500\n",
       "1997  1997.0  3993.999500\n",
       "1998  1998.0  3995.999500\n",
       "1999  1999.0  3997.999500\n",
       "\n",
       "[2000 rows x 2 columns]"
      ]
     },
     "execution_count": 12,
     "metadata": {},
     "output_type": "execute_result"
    }
   ],
   "source": [
    "simple_model_y2_df_preds = pd.DataFrame(data = pd.read_csv(\"../data/preds/train/simple_model_y2.csv\", usecols=[0,1]))\n",
    "simple_model_y2_df_preds"
   ]
  },
  {
   "cell_type": "markdown",
   "id": "surrounded-gazette",
   "metadata": {},
   "source": [
    "### - x' = 1 , y' = 2 (Combination)"
   ]
  },
  {
   "cell_type": "code",
   "execution_count": 13,
   "id": "weekly-mills",
   "metadata": {},
   "outputs": [
    {
     "data": {
      "text/html": [
       "<div>\n",
       "<style scoped>\n",
       "    .dataframe tbody tr th:only-of-type {\n",
       "        vertical-align: middle;\n",
       "    }\n",
       "\n",
       "    .dataframe tbody tr th {\n",
       "        vertical-align: top;\n",
       "    }\n",
       "\n",
       "    .dataframe thead th {\n",
       "        text-align: right;\n",
       "    }\n",
       "</style>\n",
       "<table border=\"1\" class=\"dataframe\">\n",
       "  <thead>\n",
       "    <tr style=\"text-align: right;\">\n",
       "      <th></th>\n",
       "      <th>x</th>\n",
       "      <th>y</th>\n",
       "    </tr>\n",
       "  </thead>\n",
       "  <tbody>\n",
       "    <tr>\n",
       "      <th>0</th>\n",
       "      <td>0.0</td>\n",
       "      <td>0.000515</td>\n",
       "    </tr>\n",
       "    <tr>\n",
       "      <th>1</th>\n",
       "      <td>1.0</td>\n",
       "      <td>1.970636</td>\n",
       "    </tr>\n",
       "    <tr>\n",
       "      <th>2</th>\n",
       "      <td>2.0</td>\n",
       "      <td>3.999738</td>\n",
       "    </tr>\n",
       "    <tr>\n",
       "      <th>3</th>\n",
       "      <td>3.0</td>\n",
       "      <td>6.006743</td>\n",
       "    </tr>\n",
       "    <tr>\n",
       "      <th>4</th>\n",
       "      <td>4.0</td>\n",
       "      <td>8.015183</td>\n",
       "    </tr>\n",
       "    <tr>\n",
       "      <th>...</th>\n",
       "      <td>...</td>\n",
       "      <td>...</td>\n",
       "    </tr>\n",
       "    <tr>\n",
       "      <th>1995</th>\n",
       "      <td>1995.0</td>\n",
       "      <td>3989.999800</td>\n",
       "    </tr>\n",
       "    <tr>\n",
       "      <th>1996</th>\n",
       "      <td>1996.0</td>\n",
       "      <td>3991.999500</td>\n",
       "    </tr>\n",
       "    <tr>\n",
       "      <th>1997</th>\n",
       "      <td>1997.0</td>\n",
       "      <td>3993.999500</td>\n",
       "    </tr>\n",
       "    <tr>\n",
       "      <th>1998</th>\n",
       "      <td>1998.0</td>\n",
       "      <td>3995.999500</td>\n",
       "    </tr>\n",
       "    <tr>\n",
       "      <th>1999</th>\n",
       "      <td>1999.0</td>\n",
       "      <td>3997.999500</td>\n",
       "    </tr>\n",
       "  </tbody>\n",
       "</table>\n",
       "<p>2000 rows × 2 columns</p>\n",
       "</div>"
      ],
      "text/plain": [
       "           x            y\n",
       "0        0.0     0.000515\n",
       "1        1.0     1.970636\n",
       "2        2.0     3.999738\n",
       "3        3.0     6.006743\n",
       "4        4.0     8.015183\n",
       "...      ...          ...\n",
       "1995  1995.0  3989.999800\n",
       "1996  1996.0  3991.999500\n",
       "1997  1997.0  3993.999500\n",
       "1998  1998.0  3995.999500\n",
       "1999  1999.0  3997.999500\n",
       "\n",
       "[2000 rows x 2 columns]"
      ]
     },
     "execution_count": 13,
     "metadata": {},
     "output_type": "execute_result"
    }
   ],
   "source": [
    "simple_model_x1y2_df_preds = pd.DataFrame(data = pd.read_csv(\"../data/preds/train/simple_model_y2.csv\", usecols=[0,1]))\n",
    "simple_model_x1y2_df_preds"
   ]
  },
  {
   "cell_type": "code",
   "execution_count": 14,
   "id": "congressional-beads",
   "metadata": {},
   "outputs": [
    {
     "data": {
      "text/html": [
       "<div>\n",
       "<style scoped>\n",
       "    .dataframe tbody tr th:only-of-type {\n",
       "        vertical-align: middle;\n",
       "    }\n",
       "\n",
       "    .dataframe tbody tr th {\n",
       "        vertical-align: top;\n",
       "    }\n",
       "\n",
       "    .dataframe thead th {\n",
       "        text-align: right;\n",
       "    }\n",
       "</style>\n",
       "<table border=\"1\" class=\"dataframe\">\n",
       "  <thead>\n",
       "    <tr style=\"text-align: right;\">\n",
       "      <th></th>\n",
       "      <th>x</th>\n",
       "      <th>y</th>\n",
       "    </tr>\n",
       "  </thead>\n",
       "  <tbody>\n",
       "    <tr>\n",
       "      <th>0</th>\n",
       "      <td>0</td>\n",
       "      <td>0</td>\n",
       "    </tr>\n",
       "    <tr>\n",
       "      <th>1</th>\n",
       "      <td>1</td>\n",
       "      <td>2</td>\n",
       "    </tr>\n",
       "    <tr>\n",
       "      <th>2</th>\n",
       "      <td>2</td>\n",
       "      <td>4</td>\n",
       "    </tr>\n",
       "    <tr>\n",
       "      <th>3</th>\n",
       "      <td>3</td>\n",
       "      <td>6</td>\n",
       "    </tr>\n",
       "    <tr>\n",
       "      <th>4</th>\n",
       "      <td>4</td>\n",
       "      <td>8</td>\n",
       "    </tr>\n",
       "    <tr>\n",
       "      <th>...</th>\n",
       "      <td>...</td>\n",
       "      <td>...</td>\n",
       "    </tr>\n",
       "    <tr>\n",
       "      <th>995</th>\n",
       "      <td>995</td>\n",
       "      <td>1990</td>\n",
       "    </tr>\n",
       "    <tr>\n",
       "      <th>996</th>\n",
       "      <td>996</td>\n",
       "      <td>1992</td>\n",
       "    </tr>\n",
       "    <tr>\n",
       "      <th>997</th>\n",
       "      <td>997</td>\n",
       "      <td>1994</td>\n",
       "    </tr>\n",
       "    <tr>\n",
       "      <th>998</th>\n",
       "      <td>998</td>\n",
       "      <td>1996</td>\n",
       "    </tr>\n",
       "    <tr>\n",
       "      <th>999</th>\n",
       "      <td>999</td>\n",
       "      <td>1998</td>\n",
       "    </tr>\n",
       "  </tbody>\n",
       "</table>\n",
       "<p>1000 rows × 2 columns</p>\n",
       "</div>"
      ],
      "text/plain": [
       "       x     y\n",
       "0      0     0\n",
       "1      1     2\n",
       "2      2     4\n",
       "3      3     6\n",
       "4      4     8\n",
       "..   ...   ...\n",
       "995  995  1990\n",
       "996  996  1992\n",
       "997  997  1994\n",
       "998  998  1996\n",
       "999  999  1998\n",
       "\n",
       "[1000 rows x 2 columns]"
      ]
     },
     "execution_count": 14,
     "metadata": {},
     "output_type": "execute_result"
    }
   ],
   "source": [
    "simple_model_x1y2_df = pd.DataFrame(data=simple_model_x1_df['y']).merge(pd.DataFrame(data=simple_model_y2_df['y']))\n",
    "simple_model_x1y2_df = pd.DataFrame(data=simple_model_x1y2_df, columns=['y'])\n",
    "simple_model_x1y2_df.index.name = 'x'\n",
    "simple_model_x1y2_df.reset_index(level=0, inplace=True)\n",
    "simple_model_x1y2_df"
   ]
  },
  {
   "cell_type": "markdown",
   "id": "golden-harbor",
   "metadata": {},
   "source": [
    "##  Visualising the Data "
   ]
  },
  {
   "cell_type": "markdown",
   "id": "powered-affect",
   "metadata": {},
   "source": [
    "### - x' = 1"
   ]
  },
  {
   "cell_type": "code",
   "execution_count": 15,
   "id": "appropriate-atlas",
   "metadata": {},
   "outputs": [
    {
     "data": {
      "text/plain": [
       "Text(0, 0.5, 'y')"
      ]
     },
     "execution_count": 15,
     "metadata": {},
     "output_type": "execute_result"
    },
    {
     "data": {
      "image/png": "[encoded data removed]",
      "text/plain": [
       "<Figure size 1440x360 with 3 Axes>"
      ]
     },
     "metadata": {
      "needs_background": "light"
     },
     "output_type": "display_data"
    }
   ],
   "source": [
    "fig, axs = plt.subplots(ncols=3, figsize=(20,5))\n",
    "sns.regplot(data=simple_model_x1_df, x=\"x\", y=\"y\", ax=axs[0])\n",
    "sns.regplot(data=simple_model_x1_df_preds, x=\"x\", y=\"y\",ax=axs[2])\n",
    "for key, df in {'preds' : simple_model_x1_df_preds, 'data' : simple_model_x1_df}.items():\n",
    "    x = df[\"x\"].to_numpy()\n",
    "    y = df[\"y\"].to_numpy()\n",
    "    axs[1].plot(x, y, label=key)\n",
    "axs[1].legend()\n",
    "axs[1].set_xlabel(\"x\")\n",
    "axs[1].set_ylabel(\"y\")"
   ]
  },
  {
   "cell_type": "markdown",
   "id": "dedicated-annual",
   "metadata": {},
   "source": [
    "### - y' = 2"
   ]
  },
  {
   "cell_type": "code",
   "execution_count": 16,
   "id": "radio-import",
   "metadata": {},
   "outputs": [
    {
     "data": {
      "text/plain": [
       "Text(0, 0.5, 'y')"
      ]
     },
     "execution_count": 16,
     "metadata": {},
     "output_type": "execute_result"
    },
    {
     "data": {
      "image/png": "[encoded data removed]",
      "text/plain": [
       "<Figure size 1440x360 with 3 Axes>"
      ]
     },
     "metadata": {
      "needs_background": "light"
     },
     "output_type": "display_data"
    }
   ],
   "source": [
    "fig, axs = plt.subplots(ncols=3, figsize=(20,5))\n",
    "sns.regplot(data=simple_model_y2_df, x=\"x\", y=\"y\", ax=axs[0])\n",
    "sns.regplot(data=simple_model_y2_df_preds, x=\"x\", y=\"y\",ax=axs[2])\n",
    "for key, df in {'preds' : simple_model_y2_df_preds, 'data' : simple_model_y2_df}.items():\n",
    "    x = df[\"x\"].to_numpy()\n",
    "    y = df[\"y\"].to_numpy()\n",
    "    axs[1].plot(x, y, label=key)\n",
    "axs[1].legend()\n",
    "axs[1].set_xlabel(\"x\")\n",
    "axs[1].set_ylabel(\"y\")"
   ]
  },
  {
   "cell_type": "markdown",
   "id": "consolidated-specific",
   "metadata": {},
   "source": [
    "### - x' = 1 , y' = 2 (Combination)"
   ]
  },
  {
   "cell_type": "code",
   "execution_count": 17,
   "id": "dominant-examination",
   "metadata": {},
   "outputs": [
    {
     "data": {
      "text/plain": [
       "Text(0, 0.5, 'y')"
      ]
     },
     "execution_count": 17,
     "metadata": {},
     "output_type": "execute_result"
    },
    {
     "data": {
      "image/png": "[encoded data removed]",
      "text/plain": [
       "<Figure size 1440x360 with 3 Axes>"
      ]
     },
     "metadata": {
      "needs_background": "light"
     },
     "output_type": "display_data"
    }
   ],
   "source": [
    "fig, axs = plt.subplots(ncols=3, figsize=(20,5))\n",
    "sns.regplot(data=simple_model_x1y2_df, x=\"x\", y=\"y\", ax=axs[0])\n",
    "sns.regplot(data=simple_model_x1y2_df_preds, x=\"x\", y=\"y\",ax=axs[2])\n",
    "for key, df in {'preds' : simple_model_x1y2_df_preds, 'data' : simple_model_x1y2_df}.items():\n",
    "    x = df[\"x\"].to_numpy()\n",
    "    y = df[\"y\"].to_numpy()\n",
    "    axs[1].plot(x, y, label=key)\n",
    "axs[1].legend()\n",
    "axs[1].set_xlabel(\"x\")\n",
    "axs[1].set_ylabel(\"y\")"
   ]
  }
 ],
 "metadata": {
  "kernelspec": {
   "display_name": "Python 3",
   "language": "python",
   "name": "python3"
  },
  "language_info": {
   "codemirror_mode": {
    "name": "ipython",
    "version": 3
   },
   "file_extension": ".py",
   "mimetype": "text/x-python",
   "name": "python",
   "nbconvert_exporter": "python",
   "pygments_lexer": "ipython3",
   "version": "3.8.1"
  }
 },
 "nbformat": 4,
 "nbformat_minor": 5
}
