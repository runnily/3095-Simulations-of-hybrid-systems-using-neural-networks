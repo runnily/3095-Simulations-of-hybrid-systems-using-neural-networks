{
 "cells": [
  {
   "cell_type": "code",
   "execution_count": 1,
   "id": "common-plain",
   "metadata": {},
   "outputs": [],
   "source": [
    "import pandas as pd\n",
    "import sys\n",
    "sys.path.insert(1, '../../')\n",
    "import prototype_nn as NN\n",
    "from torch.utils.data import TensorDataset, DataLoader # For mini batches\n",
    "from torch import from_numpy\n",
    "import numpy as np\n",
    "import matplotlib.pyplot as plt\n",
    "import seaborn as sns"
   ]
  },
  {
   "cell_type": "markdown",
   "id": "hairy-coordinate",
   "metadata": {},
   "source": [
    "## Content"
   ]
  },
  {
   "cell_type": "markdown",
   "id": "abandoned-burton",
   "metadata": {},
   "source": [
    "This notebook looks at the overfitting concept: where a training data, is performing better than the test data. This goes through every epoch and compare the differences between the loss given by the training data and the test data. The notebook also explores the affect of batch size and large batch sizes."
   ]
  },
  {
   "cell_type": "markdown",
   "id": "legislative-helmet",
   "metadata": {},
   "source": [
    "## Dataframes"
   ]
  },
  {
   "cell_type": "markdown",
   "id": "authorized-ultimate",
   "metadata": {},
   "source": [
    "This is looking at the dataframes of the modules"
   ]
  },
  {
   "cell_type": "code",
   "execution_count": 2,
   "id": "cross-chocolate",
   "metadata": {},
   "outputs": [],
   "source": [
    "# newtons..\n",
    "filename_train = \"../../data/train/newtons_cooling_law.csv\"\n",
    "filename_test = \"../../data/test/newtons_cooling_law.csv\""
   ]
  },
  {
   "cell_type": "code",
   "execution_count": 3,
   "id": "still-charles",
   "metadata": {},
   "outputs": [],
   "source": [
    "newton_train = pd.DataFrame(data= pd.read_csv(filename_train))\n",
    "newton_test = pd.DataFrame(data= pd.read_csv(filename_test))"
   ]
  },
  {
   "cell_type": "markdown",
   "id": "portable-shaft",
   "metadata": {},
   "source": [
    "This is the training dataframe"
   ]
  },
  {
   "cell_type": "code",
   "execution_count": 4,
   "id": "bottom-flood",
   "metadata": {},
   "outputs": [
    {
     "data": {
      "text/html": [
       "<div>\n",
       "<style scoped>\n",
       "    .dataframe tbody tr th:only-of-type {\n",
       "        vertical-align: middle;\n",
       "    }\n",
       "\n",
       "    .dataframe tbody tr th {\n",
       "        vertical-align: top;\n",
       "    }\n",
       "\n",
       "    .dataframe thead th {\n",
       "        text-align: right;\n",
       "    }\n",
       "</style>\n",
       "<table border=\"1\" class=\"dataframe\">\n",
       "  <thead>\n",
       "    <tr style=\"text-align: right;\">\n",
       "      <th></th>\n",
       "      <th>x_0</th>\n",
       "      <th>x</th>\n",
       "      <th>y</th>\n",
       "      <th>dydx</th>\n",
       "      <th>state</th>\n",
       "    </tr>\n",
       "  </thead>\n",
       "  <tbody>\n",
       "    <tr>\n",
       "      <th>0</th>\n",
       "      <td>1</td>\n",
       "      <td>0</td>\n",
       "      <td>1.000000</td>\n",
       "      <td>0.315000</td>\n",
       "      <td>Cooling</td>\n",
       "    </tr>\n",
       "    <tr>\n",
       "      <th>1</th>\n",
       "      <td>1</td>\n",
       "      <td>1</td>\n",
       "      <td>1.315000</td>\n",
       "      <td>0.310275</td>\n",
       "      <td>Cooling</td>\n",
       "    </tr>\n",
       "    <tr>\n",
       "      <th>2</th>\n",
       "      <td>1</td>\n",
       "      <td>2</td>\n",
       "      <td>1.625275</td>\n",
       "      <td>0.305621</td>\n",
       "      <td>Cooling</td>\n",
       "    </tr>\n",
       "    <tr>\n",
       "      <th>3</th>\n",
       "      <td>1</td>\n",
       "      <td>3</td>\n",
       "      <td>1.930896</td>\n",
       "      <td>0.301037</td>\n",
       "      <td>Cooling</td>\n",
       "    </tr>\n",
       "    <tr>\n",
       "      <th>4</th>\n",
       "      <td>1</td>\n",
       "      <td>4</td>\n",
       "      <td>2.231932</td>\n",
       "      <td>0.296521</td>\n",
       "      <td>Cooling</td>\n",
       "    </tr>\n",
       "  </tbody>\n",
       "</table>\n",
       "</div>"
      ],
      "text/plain": [
       "   x_0  x         y      dydx    state\n",
       "0    1  0  1.000000  0.315000  Cooling\n",
       "1    1  1  1.315000  0.310275  Cooling\n",
       "2    1  2  1.625275  0.305621  Cooling\n",
       "3    1  3  1.930896  0.301037  Cooling\n",
       "4    1  4  2.231932  0.296521  Cooling"
      ]
     },
     "execution_count": 4,
     "metadata": {},
     "output_type": "execute_result"
    }
   ],
   "source": [
    "newton_train.head()"
   ]
  },
  {
   "cell_type": "markdown",
   "id": "forbidden-upper",
   "metadata": {},
   "source": [
    "This is the testing dataframe"
   ]
  },
  {
   "cell_type": "code",
   "execution_count": 5,
   "id": "dependent-saturday",
   "metadata": {},
   "outputs": [
    {
     "data": {
      "text/html": [
       "<div>\n",
       "<style scoped>\n",
       "    .dataframe tbody tr th:only-of-type {\n",
       "        vertical-align: middle;\n",
       "    }\n",
       "\n",
       "    .dataframe tbody tr th {\n",
       "        vertical-align: top;\n",
       "    }\n",
       "\n",
       "    .dataframe thead th {\n",
       "        text-align: right;\n",
       "    }\n",
       "</style>\n",
       "<table border=\"1\" class=\"dataframe\">\n",
       "  <thead>\n",
       "    <tr style=\"text-align: right;\">\n",
       "      <th></th>\n",
       "      <th>x_0</th>\n",
       "      <th>x</th>\n",
       "      <th>y</th>\n",
       "      <th>dy/dx</th>\n",
       "      <th>state</th>\n",
       "    </tr>\n",
       "  </thead>\n",
       "  <tbody>\n",
       "    <tr>\n",
       "      <th>0</th>\n",
       "      <td>61</td>\n",
       "      <td>0</td>\n",
       "      <td>61.000000</td>\n",
       "      <td>-0.585000</td>\n",
       "      <td>Cooling</td>\n",
       "    </tr>\n",
       "    <tr>\n",
       "      <th>1</th>\n",
       "      <td>61</td>\n",
       "      <td>1</td>\n",
       "      <td>60.415000</td>\n",
       "      <td>-0.576225</td>\n",
       "      <td>Cooling</td>\n",
       "    </tr>\n",
       "    <tr>\n",
       "      <th>2</th>\n",
       "      <td>61</td>\n",
       "      <td>2</td>\n",
       "      <td>59.838775</td>\n",
       "      <td>-0.567582</td>\n",
       "      <td>Cooling</td>\n",
       "    </tr>\n",
       "    <tr>\n",
       "      <th>3</th>\n",
       "      <td>61</td>\n",
       "      <td>3</td>\n",
       "      <td>59.271193</td>\n",
       "      <td>-0.559068</td>\n",
       "      <td>Cooling</td>\n",
       "    </tr>\n",
       "    <tr>\n",
       "      <th>4</th>\n",
       "      <td>61</td>\n",
       "      <td>4</td>\n",
       "      <td>58.712125</td>\n",
       "      <td>-0.550682</td>\n",
       "      <td>Cooling</td>\n",
       "    </tr>\n",
       "  </tbody>\n",
       "</table>\n",
       "</div>"
      ],
      "text/plain": [
       "   x_0  x          y     dy/dx    state\n",
       "0   61  0  61.000000 -0.585000  Cooling\n",
       "1   61  1  60.415000 -0.576225  Cooling\n",
       "2   61  2  59.838775 -0.567582  Cooling\n",
       "3   61  3  59.271193 -0.559068  Cooling\n",
       "4   61  4  58.712125 -0.550682  Cooling"
      ]
     },
     "execution_count": 5,
     "metadata": {},
     "output_type": "execute_result"
    }
   ],
   "source": [
    "newton_test.head()"
   ]
  },
  {
   "cell_type": "markdown",
   "id": "proprietary-profit",
   "metadata": {},
   "source": [
    "This is defining the inputs to put into the neural network, by select the first two columns from the \"newton_train\" dataframe"
   ]
  },
  {
   "cell_type": "code",
   "execution_count": 6,
   "id": "hairy-cambodia",
   "metadata": {},
   "outputs": [
    {
     "data": {
      "text/html": [
       "<div>\n",
       "<style scoped>\n",
       "    .dataframe tbody tr th:only-of-type {\n",
       "        vertical-align: middle;\n",
       "    }\n",
       "\n",
       "    .dataframe tbody tr th {\n",
       "        vertical-align: top;\n",
       "    }\n",
       "\n",
       "    .dataframe thead th {\n",
       "        text-align: right;\n",
       "    }\n",
       "</style>\n",
       "<table border=\"1\" class=\"dataframe\">\n",
       "  <thead>\n",
       "    <tr style=\"text-align: right;\">\n",
       "      <th></th>\n",
       "      <th>x_0</th>\n",
       "      <th>x</th>\n",
       "    </tr>\n",
       "  </thead>\n",
       "  <tbody>\n",
       "    <tr>\n",
       "      <th>0</th>\n",
       "      <td>1</td>\n",
       "      <td>0</td>\n",
       "    </tr>\n",
       "    <tr>\n",
       "      <th>1</th>\n",
       "      <td>1</td>\n",
       "      <td>1</td>\n",
       "    </tr>\n",
       "    <tr>\n",
       "      <th>2</th>\n",
       "      <td>1</td>\n",
       "      <td>2</td>\n",
       "    </tr>\n",
       "    <tr>\n",
       "      <th>3</th>\n",
       "      <td>1</td>\n",
       "      <td>3</td>\n",
       "    </tr>\n",
       "    <tr>\n",
       "      <th>4</th>\n",
       "      <td>1</td>\n",
       "      <td>4</td>\n",
       "    </tr>\n",
       "  </tbody>\n",
       "</table>\n",
       "</div>"
      ],
      "text/plain": [
       "   x_0  x\n",
       "0    1  0\n",
       "1    1  1\n",
       "2    1  2\n",
       "3    1  3\n",
       "4    1  4"
      ]
     },
     "execution_count": 6,
     "metadata": {},
     "output_type": "execute_result"
    }
   ],
   "source": [
    "inputs = newton_train.iloc[:,[0,1]]\n",
    "inputs.head()"
   ]
  },
  {
   "cell_type": "markdown",
   "id": "downtown-malpractice",
   "metadata": {},
   "source": [
    "This is define the targets to put into the neural network, by selecting the 3 columns within the newton train dataframe"
   ]
  },
  {
   "cell_type": "code",
   "execution_count": 7,
   "id": "suburban-topic",
   "metadata": {},
   "outputs": [
    {
     "data": {
      "text/html": [
       "<div>\n",
       "<style scoped>\n",
       "    .dataframe tbody tr th:only-of-type {\n",
       "        vertical-align: middle;\n",
       "    }\n",
       "\n",
       "    .dataframe tbody tr th {\n",
       "        vertical-align: top;\n",
       "    }\n",
       "\n",
       "    .dataframe thead th {\n",
       "        text-align: right;\n",
       "    }\n",
       "</style>\n",
       "<table border=\"1\" class=\"dataframe\">\n",
       "  <thead>\n",
       "    <tr style=\"text-align: right;\">\n",
       "      <th></th>\n",
       "      <th>y</th>\n",
       "    </tr>\n",
       "  </thead>\n",
       "  <tbody>\n",
       "    <tr>\n",
       "      <th>0</th>\n",
       "      <td>1.000000</td>\n",
       "    </tr>\n",
       "    <tr>\n",
       "      <th>1</th>\n",
       "      <td>1.315000</td>\n",
       "    </tr>\n",
       "    <tr>\n",
       "      <th>2</th>\n",
       "      <td>1.625275</td>\n",
       "    </tr>\n",
       "    <tr>\n",
       "      <th>3</th>\n",
       "      <td>1.930896</td>\n",
       "    </tr>\n",
       "    <tr>\n",
       "      <th>4</th>\n",
       "      <td>2.231932</td>\n",
       "    </tr>\n",
       "  </tbody>\n",
       "</table>\n",
       "</div>"
      ],
      "text/plain": [
       "          y\n",
       "0  1.000000\n",
       "1  1.315000\n",
       "2  1.625275\n",
       "3  1.930896\n",
       "4  2.231932"
      ]
     },
     "execution_count": 7,
     "metadata": {},
     "output_type": "execute_result"
    }
   ],
   "source": [
    "targets = newton_train.iloc[:,[2]]\n",
    "targets.head()"
   ]
  },
  {
   "cell_type": "markdown",
   "id": "hungry-minutes",
   "metadata": {},
   "source": [
    "## Defining models"
   ]
  },
  {
   "cell_type": "markdown",
   "id": "oriental-compound",
   "metadata": {},
   "source": [
    "Two models are definied small_batch_model to compare how the test and training loss are affected when the batch size is small. In addition, large_batch_model to compare how the test and training loss are affected when the batch size is large"
   ]
  },
  {
   "cell_type": "code",
   "execution_count": 8,
   "id": "alternative-pilot",
   "metadata": {},
   "outputs": [],
   "source": [
    "# lr = 0.001, bs = 32, ts = 50, epoch = 20 \n",
    "small_batch_model = NN.prototype(2, 1, 0.001)\n",
    "large_batch_model = NN.prototype(2, 1, 0.001)\n",
    "inputs_tensor = from_numpy(inputs.to_numpy(dtype='float32'))\n",
    "targets_tensor = from_numpy(targets.to_numpy(dtype='float32'))"
   ]
  },
  {
   "cell_type": "markdown",
   "id": "efficient-mobile",
   "metadata": {},
   "source": [
    "This is the inputs and targets as tensor"
   ]
  },
  {
   "cell_type": "code",
   "execution_count": 9,
   "id": "compatible-notebook",
   "metadata": {},
   "outputs": [
    {
     "data": {
      "text/plain": [
       "(tensor([[  1.,   0.],\n",
       "         [  1.,   1.],\n",
       "         [  1.,   2.],\n",
       "         ...,\n",
       "         [ 60., 197.],\n",
       "         [ 60., 198.],\n",
       "         [ 60., 199.]]),\n",
       " tensor([[ 1.0000],\n",
       "         [ 1.3150],\n",
       "         [ 1.6253],\n",
       "         ...,\n",
       "         [23.9352],\n",
       "         [23.9062],\n",
       "         [23.8776]]))"
      ]
     },
     "execution_count": 9,
     "metadata": {},
     "output_type": "execute_result"
    }
   ],
   "source": [
    "inputs_tensor, targets_tensor"
   ]
  },
  {
   "cell_type": "markdown",
   "id": "final-video",
   "metadata": {},
   "source": [
    "## Mini batches"
   ]
  },
  {
   "cell_type": "markdown",
   "id": "usual-endorsement",
   "metadata": {},
   "source": [
    "We set up a mini batch. The tensor dataset groups our data into tuples, whle the dataloader group it into mini batches"
   ]
  },
  {
   "cell_type": "code",
   "execution_count": 10,
   "id": "asian-crest",
   "metadata": {},
   "outputs": [],
   "source": [
    "train_dataset = TensorDataset(inputs_tensor, targets_tensor)\n",
    "small_batch_loader = DataLoader(dataset=train_dataset, batch_size=32, shuffle=True)\n",
    "large_batch_loader = DataLoader(dataset=train_dataset, batch_size=512, shuffle=True) "
   ]
  },
  {
   "cell_type": "markdown",
   "id": "public-windows",
   "metadata": {},
   "source": [
    "This would randomise the newton test dataset"
   ]
  },
  {
   "cell_type": "code",
   "execution_count": 11,
   "id": "graduate-program",
   "metadata": {},
   "outputs": [],
   "source": [
    "newton_rando = newton_test.sample(frac=1)"
   ]
  },
  {
   "cell_type": "markdown",
   "id": "danish-delaware",
   "metadata": {},
   "source": [
    "This is turning the the inputs and targes from the test set into a tensor"
   ]
  },
  {
   "cell_type": "code",
   "execution_count": 12,
   "id": "regional-accreditation",
   "metadata": {},
   "outputs": [],
   "source": [
    "test_inputs_tensor = from_numpy(newton_test.iloc[:,[0,1]].to_numpy(dtype='float32'))\n",
    "test_targets_tensor = from_numpy(newton_test.iloc[:,[2]].to_numpy(dtype='float32'))"
   ]
  },
  {
   "cell_type": "markdown",
   "id": "major-israel",
   "metadata": {},
   "source": [
    "## Training "
   ]
  },
  {
   "cell_type": "markdown",
   "id": "daily-reynolds",
   "metadata": {},
   "source": [
    "Training with small batch size"
   ]
  },
  {
   "cell_type": "code",
   "execution_count": 13,
   "id": "worth-albania",
   "metadata": {},
   "outputs": [
    {
     "name": "stdout",
     "output_type": "stream",
     "text": [
      "Epoch: 0  Train Loss: 14.351261138916016 Test Loss 242.87164306640625 \n",
      "Epoch: 1  Train Loss: 1.0573413372039795 Test Loss 55.00320816040039 \n",
      "Epoch: 2  Train Loss: 0.3961348533630371 Test Loss 23.311565399169922 \n",
      "Epoch: 3  Train Loss: 0.778669536113739 Test Loss 12.819353103637695 \n",
      "Epoch: 4  Train Loss: 0.554557204246521 Test Loss 14.893723487854004 \n",
      "Epoch: 5  Train Loss: 0.030442379415035248 Test Loss 15.354687690734863 \n",
      "Epoch: 6  Train Loss: 0.06807228922843933 Test Loss 16.992063522338867 \n",
      "Epoch: 7  Train Loss: 0.5661531686782837 Test Loss 24.8622989654541 \n",
      "Epoch: 8  Train Loss: 0.03720088303089142 Test Loss 11.969482421875 \n",
      "Epoch: 9  Train Loss: 0.8708438277244568 Test Loss 18.404340744018555 \n",
      "Epoch: 10  Train Loss: 0.06533312797546387 Test Loss 11.407846450805664 \n",
      "Epoch: 11  Train Loss: 0.23218557238578796 Test Loss 14.610869407653809 \n",
      "Epoch: 12  Train Loss: 0.0989922285079956 Test Loss 8.798766136169434 \n",
      "Epoch: 13  Train Loss: 0.1833149939775467 Test Loss 11.471463203430176 \n",
      "Epoch: 14  Train Loss: 1.1535789966583252 Test Loss 16.109827041625977 \n",
      "Epoch: 15  Train Loss: 0.24105995893478394 Test Loss 9.21633529663086 \n",
      "Epoch: 16  Train Loss: 0.08797440677881241 Test Loss 10.116583824157715 \n",
      "Epoch: 17  Train Loss: 0.07770389318466187 Test Loss 12.477991104125977 \n",
      "Epoch: 18  Train Loss: 0.06489567458629608 Test Loss 9.705668449401855 \n",
      "Epoch: 19  Train Loss: 0.014486059546470642 Test Loss 10.095661163330078 \n",
      "Epoch: 20  Train Loss: 0.03295239433646202 Test Loss 9.207895278930664 \n",
      "Epoch: 21  Train Loss: 0.05420779064297676 Test Loss 11.231834411621094 \n",
      "Epoch: 22  Train Loss: 0.09837907552719116 Test Loss 8.68889331817627 \n",
      "Epoch: 23  Train Loss: 0.07371029257774353 Test Loss 7.776810169219971 \n",
      "Epoch: 24  Train Loss: 0.05571620911359787 Test Loss 8.009563446044922 \n",
      "Epoch: 25  Train Loss: 0.11969279497861862 Test Loss 7.271774768829346 \n",
      "Epoch: 26  Train Loss: 0.015381373465061188 Test Loss 7.778305530548096 \n",
      "Epoch: 27  Train Loss: 0.025711724534630775 Test Loss 6.408491134643555 \n",
      "Epoch: 28  Train Loss: 0.4299977421760559 Test Loss 14.002366065979004 \n",
      "Epoch: 29  Train Loss: 0.0896373987197876 Test Loss 6.799811840057373 \n"
     ]
    }
   ],
   "source": [
    "small_batch_df = small_batch_model.train_model(small_batch_loader, 30, test_inputs_tensor, test_targets_tensor)"
   ]
  },
  {
   "cell_type": "markdown",
   "id": "forbidden-disney",
   "metadata": {},
   "source": [
    "Training with a large batch size"
   ]
  },
  {
   "cell_type": "code",
   "execution_count": 14,
   "id": "blank-strip",
   "metadata": {},
   "outputs": [
    {
     "name": "stdout",
     "output_type": "stream",
     "text": [
      "Epoch: 0  Train Loss: 34.356842041015625 Test Loss 297.8104553222656 \n",
      "Epoch: 1  Train Loss: 24.67153549194336 Test Loss 269.8815002441406 \n",
      "Epoch: 2  Train Loss: 21.799999237060547 Test Loss 251.99502563476562 \n",
      "Epoch: 3  Train Loss: 17.970165252685547 Test Loss 209.81129455566406 \n",
      "Epoch: 4  Train Loss: 17.356739044189453 Test Loss 217.8455352783203 \n",
      "Epoch: 5  Train Loss: 16.520198822021484 Test Loss 250.42147827148438 \n",
      "Epoch: 6  Train Loss: 11.63581371307373 Test Loss 184.8941192626953 \n",
      "Epoch: 7  Train Loss: 10.40722370147705 Test Loss 166.23117065429688 \n",
      "Epoch: 8  Train Loss: 5.549954891204834 Test Loss 126.68221282958984 \n",
      "Epoch: 9  Train Loss: 4.117671012878418 Test Loss 101.0201644897461 \n",
      "Epoch: 10  Train Loss: 2.5587375164031982 Test Loss 66.14667510986328 \n",
      "Epoch: 11  Train Loss: 1.8106136322021484 Test Loss 54.5350341796875 \n",
      "Epoch: 12  Train Loss: 1.1325045824050903 Test Loss 62.31626892089844 \n",
      "Epoch: 13  Train Loss: 1.1356666088104248 Test Loss 44.35896682739258 \n",
      "Epoch: 14  Train Loss: 0.8294070959091187 Test Loss 32.71562194824219 \n",
      "Epoch: 15  Train Loss: 1.4181627035140991 Test Loss 42.68825912475586 \n",
      "Epoch: 16  Train Loss: 1.61186945438385 Test Loss 32.48139953613281 \n",
      "Epoch: 17  Train Loss: 1.7283028364181519 Test Loss 22.315780639648438 \n",
      "Epoch: 18  Train Loss: 0.4788573086261749 Test Loss 24.593698501586914 \n",
      "Epoch: 19  Train Loss: 1.2699271440505981 Test Loss 43.488162994384766 \n",
      "Epoch: 20  Train Loss: 0.3801858425140381 Test Loss 35.13010025024414 \n",
      "Epoch: 21  Train Loss: 0.309692919254303 Test Loss 39.46331787109375 \n",
      "Epoch: 22  Train Loss: 0.29073044657707214 Test Loss 33.87556457519531 \n",
      "Epoch: 23  Train Loss: 0.2439490109682083 Test Loss 29.1109561920166 \n",
      "Epoch: 24  Train Loss: 0.10238480567932129 Test Loss 31.012662887573242 \n",
      "Epoch: 25  Train Loss: 0.6145511269569397 Test Loss 38.25299835205078 \n",
      "Epoch: 26  Train Loss: 0.3288118243217468 Test Loss 33.624267578125 \n",
      "Epoch: 27  Train Loss: 0.5033098459243774 Test Loss 23.383586883544922 \n",
      "Epoch: 28  Train Loss: 2.070251941680908 Test Loss 38.06925964355469 \n",
      "Epoch: 29  Train Loss: 0.7450905442237854 Test Loss 32.49559020996094 \n"
     ]
    }
   ],
   "source": [
    "large_batch_df = large_batch_model.train_model(large_batch_loader, 30, test_inputs_tensor, test_targets_tensor)"
   ]
  },
  {
   "cell_type": "markdown",
   "id": "bronze-metadata",
   "metadata": {},
   "source": [
    "## Graphs"
   ]
  },
  {
   "cell_type": "markdown",
   "id": "patent-dialogue",
   "metadata": {},
   "source": [
    "graphs"
   ]
  },
  {
   "cell_type": "code",
   "execution_count": 15,
   "id": "experimental-bankruptcy",
   "metadata": {},
   "outputs": [
    {
     "data": {
      "text/plain": [
       "<matplotlib.legend.Legend at 0x7fe540fb7670>"
      ]
     },
     "execution_count": 15,
     "metadata": {},
     "output_type": "execute_result"
    },
    {
     "data": {
      "image/png": "[encoded data removed]",
      "text/plain": [
       "<Figure size 432x288 with 1 Axes>"
      ]
     },
     "metadata": {
      "needs_background": "light"
     },
     "output_type": "display_data"
    }
   ],
   "source": [
    "fig, ax = plt.subplots()\n",
    "sns.lineplot(data=small_batch_df, x=np.arange(0, 30), y=\"Train\", ax=ax, label=\"train loss & small bs\", markers=True)\n",
    "sns.lineplot(data=small_batch_df,x=np.arange(0, 30), y=\"Test\", ax=ax, label=\"test loss & small bs\" , markers=True)\n",
    "sns.lineplot(data=large_batch_df, x=np.arange(0, 30), y=\"Train\", ax=ax, label=\"train loss & large bs\", markers=True)\n",
    "sns.lineplot(data=large_batch_df,x=np.arange(0, 30), y=\"Test\", ax=ax, label=\"test loss & large bs\" , markers=True)\n",
    "fig.legend()"
   ]
  }
 ],
 "metadata": {
  "kernelspec": {
   "display_name": "Python 3",
   "language": "python",
   "name": "python3"
  },
  "language_info": {
   "codemirror_mode": {
    "name": "ipython",
    "version": 3
   },
   "file_extension": ".py",
   "mimetype": "text/x-python",
   "name": "python",
   "nbconvert_exporter": "python",
   "pygments_lexer": "ipython3",
   "version": "3.8.1"
  }
 },
 "nbformat": 4,
 "nbformat_minor": 5
}
